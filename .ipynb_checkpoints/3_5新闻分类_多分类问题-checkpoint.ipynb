{
 "cells": [
  {
   "cell_type": "code",
   "execution_count": 31,
   "id": "4b70cf29-823f-4025-b418-4b937e57658d",
   "metadata": {},
   "outputs": [
    {
     "data": {
      "text/html": [
       "<style type='text/css'>\n",
       "    *{\n",
       "        # background-color:#E3EDCD;\n",
       "        # background-color:black;\n",
       "        # color:white;\n",
       "        \n",
       "    }\n",
       "    h1{\n",
       "        color:#1976d2;\n",
       "    }\n",
       "    h2{\n",
       "        color:#f57c00;\n",
       "    }\n",
       "    h3{\n",
       "        color:#ba37ff;\n",
       "    }\n",
       "    h4{\n",
       "        color:green;\n",
       "    }\n",
       "    table{\n",
       "        border:1px solid black !important;\n",
       "        border-collapse:collapse !important;\n",
       "    }\n",
       "    th{\n",
       "        background-color:blueviolet !important;\n",
       "        text-align:center;\n",
       "        color:white;\n",
       "    }\n",
       "    th,td{\n",
       "        border:0.1px solid black !important;\n",
       "        transition:0.2s all liner;\n",
       "        \n",
       "    }\n",
       "    td:hover{\n",
       "        transform:scale(1.1);\n",
       "        background-color:orange;\n",
       "        color:blueviolet;\n",
       "    }\n",
       "    .raw{\n",
       "        white-space:pre;\n",
       "    }\n",
       "    .important{\n",
       "        color:red;\n",
       "    }\n",
       "</style>\n"
      ],
      "text/plain": [
       "<IPython.core.display.HTML object>"
      ]
     },
     "metadata": {},
     "output_type": "display_data"
    }
   ],
   "source": [
    "%%HTML\n",
    "<style type='text/css'>\n",
    "    *{\n",
    "        # background-color:#E3EDCD;\n",
    "        # background-color:black;\n",
    "        # color:white;\n",
    "        \n",
    "    }\n",
    "    h1{\n",
    "        color:#1976d2;\n",
    "    }\n",
    "    h2{\n",
    "        color:#f57c00;\n",
    "    }\n",
    "    h3{\n",
    "        color:#ba37ff;\n",
    "    }\n",
    "    h4{\n",
    "        color:green;\n",
    "    }\n",
    "    table{\n",
    "        border:1px solid black !important;\n",
    "        border-collapse:collapse !important;\n",
    "    }\n",
    "    th{\n",
    "        background-color:blueviolet !important;\n",
    "        text-align:center;\n",
    "        color:white;\n",
    "    }\n",
    "    th,td{\n",
    "        border:0.1px solid black !important;\n",
    "        transition:0.2s all liner;\n",
    "        \n",
    "    }\n",
    "    td:hover{\n",
    "        transform:scale(1.1);\n",
    "        background-color:orange;\n",
    "        color:blueviolet;\n",
    "    }\n",
    "    .raw{\n",
    "        white-space:pre;\n",
    "    }\n",
    "    .important{\n",
    "        color:red;\n",
    "    }\n",
    "</style>"
   ]
  },
  {
   "cell_type": "markdown",
   "id": "9382238c-bfbc-4299-8944-b1f066a777cc",
   "metadata": {},
   "source": [
    "# 新闻分类，多分类问题 "
   ]
  },
  {
   "cell_type": "markdown",
   "id": "5e23cc2b-a429-400f-bcec-54190862b336",
   "metadata": {},
   "source": [
    "上一节中，我们介绍了如何用密集连接的神经网络将向量输入划分为两个互斥的类别。但\n",
    "60　　第 3 章　神经网络入门\n",
    "如果类别不止两个，要怎么做？\n",
    "本节你会构建一个网络，将路透社新闻划分为 46 个互斥的主题。因为有多个类别，所以\n",
    "这是多分类（multiclass classification）问题的一个例子。因为每个数据点只能划分到一个类别，\n",
    "所以更具体地说，这是单标签、多分类（single-label, multiclass classification）问题的一个例\n",
    "子。如果每个数据点可以划分到多个类别（主题），那它就是一个多标签、多分类（multilabel,\n",
    "multiclass classification）问题。"
   ]
  },
  {
   "cell_type": "markdown",
   "id": "a23180b1-380c-423b-94fc-30fc42fa6330",
   "metadata": {},
   "source": [
    "###  3.5.1　路透社数据集"
   ]
  },
  {
   "cell_type": "markdown",
   "id": "3f0da937-d305-4126-885d-82c7cd19d2ec",
   "metadata": {},
   "source": [
    "本节使用路透社数据集，它包含许多短新闻及其对应的主题，由路透社在 1986 年发布。它\n",
    "是一个简单的、广泛使用的文本分类数据集。它包括 46 个不同的主题：某些主题的样本更多，\n",
    "但训练集中每个主题都有至少 10 个样本。         \n",
    "与 IMDB 和 MNIST 类似，路透社数据集也内置为 Keras 的一部分。我们来看一下。"
   ]
  },
  {
   "cell_type": "markdown",
   "id": "a90aabd9-7513-47a8-b894-36eb219e1fcc",
   "metadata": {},
   "source": [
    "#### 代码清单 3-12　加载路透社数据集"
   ]
  },
  {
   "cell_type": "code",
   "execution_count": 1,
   "id": "8463f4e4-a4d7-4ca1-9089-f0a0b5c888c3",
   "metadata": {},
   "outputs": [],
   "source": [
    "from keras.datasets import reuters"
   ]
  },
  {
   "cell_type": "code",
   "execution_count": 2,
   "id": "02cf06e4-68e8-4d10-84fc-63394b964506",
   "metadata": {},
   "outputs": [],
   "source": [
    "(train_data,train_labels),(test_data,test_labels)=reuters.load_data(num_words=10000)"
   ]
  },
  {
   "cell_type": "markdown",
   "id": "c93ca664-f6e1-4e15-9b55-4808864c6b7d",
   "metadata": {},
   "source": [
    "与 IMDB 数据集一样，参数 num_words=10000 将数据限定为前 10 000 个最常出现的单词。\n",
    "我们有 8982 个训练样本和 2246 个测试样本。"
   ]
  },
  {
   "cell_type": "code",
   "execution_count": 3,
   "id": "1b1fecf0-1493-4414-820f-0aa7a3665df4",
   "metadata": {},
   "outputs": [
    {
     "data": {
      "text/plain": [
       "8982"
      ]
     },
     "execution_count": 3,
     "metadata": {},
     "output_type": "execute_result"
    }
   ],
   "source": [
    "len(train_data)"
   ]
  },
  {
   "cell_type": "code",
   "execution_count": 4,
   "id": "7873cc6c-af9c-438f-9c49-b5eef2f60338",
   "metadata": {},
   "outputs": [
    {
     "data": {
      "text/plain": [
       "2246"
      ]
     },
     "execution_count": 4,
     "metadata": {},
     "output_type": "execute_result"
    }
   ],
   "source": [
    "len(test_data)"
   ]
  },
  {
   "cell_type": "markdown",
   "id": "36fbf4a8-e530-41a5-9d2c-a2e9f08d6b66",
   "metadata": {},
   "source": [
    " 与IMDB 评论一样，每个样本都是一个整数列表（表示单词索引）。"
   ]
  },
  {
   "cell_type": "code",
   "execution_count": 5,
   "id": "927fd2fe-5e82-4f83-907a-e07437ef99dc",
   "metadata": {},
   "outputs": [
    {
     "data": {
      "text/plain": [
       "[1,\n",
       " 245,\n",
       " 273,\n",
       " 207,\n",
       " 156,\n",
       " 53,\n",
       " 74,\n",
       " 160,\n",
       " 26,\n",
       " 14,\n",
       " 46,\n",
       " 296,\n",
       " 26,\n",
       " 39,\n",
       " 74,\n",
       " 2979,\n",
       " 3554,\n",
       " 14,\n",
       " 46,\n",
       " 4689,\n",
       " 4329,\n",
       " 86,\n",
       " 61,\n",
       " 3499,\n",
       " 4795,\n",
       " 14,\n",
       " 61,\n",
       " 451,\n",
       " 4329,\n",
       " 17,\n",
       " 12]"
      ]
     },
     "execution_count": 5,
     "metadata": {},
     "output_type": "execute_result"
    }
   ],
   "source": [
    "train_data[10]"
   ]
  },
  {
   "cell_type": "markdown",
   "id": "01110713-59c2-435f-a3ad-f8ddc1ff52db",
   "metadata": {},
   "source": [
    "### 3.5.2　准备数据"
   ]
  },
  {
   "cell_type": "markdown",
   "id": "57fac43d-aea0-4c46-8772-6b2b0c1ef2bb",
   "metadata": {},
   "source": [
    "你可以使用与上一个例子相同的代码将数据向量化。"
   ]
  },
  {
   "cell_type": "markdown",
   "id": "0a27369f-2e53-40d3-b533-18341b83cec8",
   "metadata": {},
   "source": [
    "#### 代码清单 3-14　编码数据"
   ]
  },
  {
   "cell_type": "code",
   "execution_count": 4,
   "id": "47f220be-c4a0-474f-8149-4a38dd0f1f7f",
   "metadata": {},
   "outputs": [],
   "source": [
    "import numpy as np \n",
    "def vectorize_sequences(sequences,dimension=10000):\n",
    "    results = np.zeros((len(sequences),dimension))\n",
    "    for i,sequence in enumerate(sequences):\n",
    "        results[i,sequence] = 1\n",
    "    return results"
   ]
  },
  {
   "cell_type": "code",
   "execution_count": 5,
   "id": "506b2348-4aff-4953-8f50-7c0107c52430",
   "metadata": {},
   "outputs": [],
   "source": [
    "x_train = vectorize_sequences(train_data) #%%!将训练数据向量化\n",
    "x_test = vectorize_sequences(test_data) #%%!将测试数据向量化"
   ]
  },
  {
   "cell_type": "markdown",
   "id": "28206438-2d17-4ae5-b140-3b315b7062f9",
   "metadata": {},
   "source": [
    "将标签向量化有两种方法：你可以将标签列表转换为整数张量，或者使用 one-hot 编码。\n",
    "one-hot 编码是分类数据广泛使用的一种格式，也叫分类编码（categorical encoding）。6.1 节给出\n",
    "了 one-hot 编码的详细解释。在这个例子中，标签的 one-hot 编码就是将每个标签表示为全零向量，\n",
    "只有标签索引对应的元素为 1。其代码实现如下。"
   ]
  },
  {
   "cell_type": "code",
   "execution_count": 6,
   "id": "0fee9ee9-34ee-4260-83c8-0d5114fef8f3",
   "metadata": {},
   "outputs": [],
   "source": [
    "# import numpy as np\n",
    "def to_one_hot(labels, dimension=46):\n",
    "     results = np.zeros((len(labels), dimension))\n",
    "     for i, label in enumerate(labels):\n",
    "         results[i, label] = 1\n",
    "     return results\n",
    "one_hot_train_labels = to_one_hot(train_labels) #将训练数据向量化\n",
    "one_hot_test_labels = to_one_hot(test_labels) #将测试数据向量化"
   ]
  },
  {
   "cell_type": "markdown",
   "id": "83d0c22b-07ec-471f-aacc-10fcb13751c4",
   "metadata": {},
   "source": [
    "注意，Keras 内置方法可以实现这个操作，你在 MNIST 例子中已经见过这种方法。"
   ]
  },
  {
   "cell_type": "markdown",
   "id": "42767b16-3fd1-4383-a018-8524448cdb00",
   "metadata": {},
   "source": [
    "```python\n",
    "from keras.utils.np_utils import to_categorical\n",
    "one_hot_train_labels = to_categorical(train_labels)\n",
    "one_hot_test_labels = to_categorical(test_labels)\n",
    "```"
   ]
  },
  {
   "cell_type": "markdown",
   "id": "e0cac73f-694b-4281-a92e-9562c006197a",
   "metadata": {},
   "source": [
    "### 3.5.3　构建网络"
   ]
  },
  {
   "cell_type": "markdown",
   "id": "87305dbe-f426-4f59-8f73-e440c895b617",
   "metadata": {},
   "source": [
    "   这个主题分类问题与前面的电影评论分类问题类似，两个例子都是试图对简短的文本片段\n",
    "进行分类。但这个问题有一个新的约束条件：输出类别的数量从 2 个变为 46 个。输出空间的维\n",
    "度要大得多。        \n",
    "    对于前面用过的 Dense 层的堆叠，每层只能访问上一层输出的信息。如果某一层丢失了与\n",
    "分类问题相关的一些信息，那么这些信息无法被后面的层找回，也就是说，每一层都可能成为\n",
    "信息瓶颈。上一个例子使用了 16 维的中间层，但对这个例子来说 16 维空间可能太小了，无法\n",
    "学会区分 46 个不同的类别。这种维度较小的层可能成为信息瓶颈，永久地丢失相关信息。   \n",
    "   出于这个原因，下面将使用维度更大的层，包含 64 个单元。\n"
   ]
  },
  {
   "cell_type": "markdown",
   "id": "902ee840-a9b0-4506-96e2-86a2a87fd192",
   "metadata": {},
   "source": [
    "#### 代码清单 3-15　模型定义"
   ]
  },
  {
   "cell_type": "code",
   "execution_count": 7,
   "id": "bb4338e7-65fd-4546-bf15-fcc8bc12fe4a",
   "metadata": {},
   "outputs": [],
   "source": [
    "from keras import models\n",
    "from keras import layers\n",
    "from keras import Input"
   ]
  },
  {
   "cell_type": "code",
   "execution_count": 8,
   "id": "3acfd4bc-b2c4-4b01-9d6c-f9d0e2fe0c9a",
   "metadata": {},
   "outputs": [],
   "source": [
    "model = models.Sequential() \n",
    "model.add(Input(shape=(10000,)))\n",
    "model.add(layers.Dense(64,activation='relu'))\n",
    "model.add(layers.Dense(64,activation='relu'))\n",
    "model.add(layers.Dense(46,activation='softmax'))\n"
   ]
  },
  {
   "cell_type": "markdown",
   "id": "568ad3a5-a49c-4d91-8827-636ea50dbe26",
   "metadata": {},
   "source": [
    "关于这个架构还应该注意另外两点。      \n",
    " 网络的最后一层是大小为 46 的 Dense 层。这意味着，对于每个输入样本，网络都会输\n",
    "出一个 46 维向量。这个向量的每个元素（即每个维度）代表不同的输出类别。     \n",
    " 最后一层使用了 $softmax$ 激活。你在 MNIST 例子中见过这种用法。网络将输出在 46\n",
    "个不同输出类别上的概率分布——对于每一个输入样本，网络都会输出一个 46 维向量，  \n",
    "其中 $output[i]$ 是样本属于第 i 个类别的概率。46 个概率的总和为 1。  \n",
    "对于这个例子，最好的损失函数是 categorical_crossentropy（分类交叉熵）。它用于\n",
    "衡量两个概率分布之间的距离，这里两个概率分布分别是网络输出的概率分布和标签的真实分\n",
    "布。通过将这两个分布的距离最小化，训练网络可使输出结果尽可能接近真实标签。   "
   ]
  },
  {
   "cell_type": "markdown",
   "id": "8ac44384-c5ad-40ce-a2c0-86a71a72b4bd",
   "metadata": {},
   "source": [
    "#### 代码清单 3-16　编译模型"
   ]
  },
  {
   "cell_type": "code",
   "execution_count": 9,
   "id": "a35c676b-e824-4cf4-9638-a4c9d2fa8636",
   "metadata": {},
   "outputs": [],
   "source": [
    "model.compile(\n",
    "    optimizer='rmsprop',\n",
    "    loss='categorical_crossentropy',\n",
    "    metrics=['accuracy']\n",
    ")"
   ]
  },
  {
   "cell_type": "markdown",
   "id": "6c52d46c-5e73-49c9-b07d-4e51feb67265",
   "metadata": {},
   "source": [
    "### 3.5.4　验证你的方法"
   ]
  },
  {
   "cell_type": "markdown",
   "id": "af331836-4a90-414a-a62e-d144d5eed3c8",
   "metadata": {},
   "source": [
    "我们在训练数据中留出 1000 个样本作为验证集"
   ]
  },
  {
   "cell_type": "markdown",
   "id": "84e7d58a-42cf-448f-a1be-4384f93de6e8",
   "metadata": {},
   "source": [
    "#### 代码清单 3-17　留出验证集"
   ]
  },
  {
   "cell_type": "code",
   "execution_count": 10,
   "id": "3e77850c-cee2-49ab-84df-67e3637db520",
   "metadata": {},
   "outputs": [],
   "source": [
    "x_val = x_train[:1000]\n",
    "partial_x_train = x_train[1000:]\n",
    "y_val = one_hot_train_labels[:1000]\n",
    "partial_y_train = one_hot_train_labels[1000:]"
   ]
  },
  {
   "cell_type": "markdown",
   "id": "5951f7d2-7a63-4c3e-a59f-9a8825866687",
   "metadata": {},
   "source": [
    "现在开始训练网络，共 20 个轮次。"
   ]
  },
  {
   "cell_type": "markdown",
   "id": "76dd7fb5-204c-4a30-9bb7-aa1f51accb3c",
   "metadata": {},
   "source": [
    "#### 代码清单 3-18　训练模型"
   ]
  },
  {
   "cell_type": "code",
   "execution_count": 11,
   "id": "155dfb0d-7411-4d57-ada8-b852e21932c8",
   "metadata": {},
   "outputs": [
    {
     "name": "stdout",
     "output_type": "stream",
     "text": [
      "Epoch 1/20\n",
      "\u001b[1m16/16\u001b[0m \u001b[32m━━━━━━━━━━━━━━━━━━━━\u001b[0m\u001b[37m\u001b[0m \u001b[1m2s\u001b[0m 40ms/step - accuracy: 0.4114 - loss: 3.1492 - val_accuracy: 0.6140 - val_loss: 1.8396\n",
      "Epoch 2/20\n",
      "\u001b[1m16/16\u001b[0m \u001b[32m━━━━━━━━━━━━━━━━━━━━\u001b[0m\u001b[37m\u001b[0m \u001b[1m0s\u001b[0m 15ms/step - accuracy: 0.6563 - loss: 1.6450 - val_accuracy: 0.7020 - val_loss: 1.4010\n",
      "Epoch 3/20\n",
      "\u001b[1m16/16\u001b[0m \u001b[32m━━━━━━━━━━━━━━━━━━━━\u001b[0m\u001b[37m\u001b[0m \u001b[1m0s\u001b[0m 16ms/step - accuracy: 0.7337 - loss: 1.2415 - val_accuracy: 0.7480 - val_loss: 1.2144\n",
      "Epoch 4/20\n",
      "\u001b[1m16/16\u001b[0m \u001b[32m━━━━━━━━━━━━━━━━━━━━\u001b[0m\u001b[37m\u001b[0m \u001b[1m0s\u001b[0m 16ms/step - accuracy: 0.7801 - loss: 0.9955 - val_accuracy: 0.7570 - val_loss: 1.1126\n",
      "Epoch 5/20\n",
      "\u001b[1m16/16\u001b[0m \u001b[32m━━━━━━━━━━━━━━━━━━━━\u001b[0m\u001b[37m\u001b[0m \u001b[1m0s\u001b[0m 15ms/step - accuracy: 0.8225 - loss: 0.8222 - val_accuracy: 0.7800 - val_loss: 1.0355\n",
      "Epoch 6/20\n",
      "\u001b[1m16/16\u001b[0m \u001b[32m━━━━━━━━━━━━━━━━━━━━\u001b[0m\u001b[37m\u001b[0m \u001b[1m0s\u001b[0m 15ms/step - accuracy: 0.8469 - loss: 0.7073 - val_accuracy: 0.7950 - val_loss: 0.9729\n",
      "Epoch 7/20\n",
      "\u001b[1m16/16\u001b[0m \u001b[32m━━━━━━━━━━━━━━━━━━━━\u001b[0m\u001b[37m\u001b[0m \u001b[1m0s\u001b[0m 15ms/step - accuracy: 0.8716 - loss: 0.6036 - val_accuracy: 0.7920 - val_loss: 0.9499\n",
      "Epoch 8/20\n",
      "\u001b[1m16/16\u001b[0m \u001b[32m━━━━━━━━━━━━━━━━━━━━\u001b[0m\u001b[37m\u001b[0m \u001b[1m0s\u001b[0m 15ms/step - accuracy: 0.8986 - loss: 0.4804 - val_accuracy: 0.8060 - val_loss: 0.9084\n",
      "Epoch 9/20\n",
      "\u001b[1m16/16\u001b[0m \u001b[32m━━━━━━━━━━━━━━━━━━━━\u001b[0m\u001b[37m\u001b[0m \u001b[1m0s\u001b[0m 14ms/step - accuracy: 0.9163 - loss: 0.4055 - val_accuracy: 0.7900 - val_loss: 0.9261\n",
      "Epoch 10/20\n",
      "\u001b[1m16/16\u001b[0m \u001b[32m━━━━━━━━━━━━━━━━━━━━\u001b[0m\u001b[37m\u001b[0m \u001b[1m0s\u001b[0m 17ms/step - accuracy: 0.9247 - loss: 0.3553 - val_accuracy: 0.8160 - val_loss: 0.8932\n",
      "Epoch 11/20\n",
      "\u001b[1m16/16\u001b[0m \u001b[32m━━━━━━━━━━━━━━━━━━━━\u001b[0m\u001b[37m\u001b[0m \u001b[1m0s\u001b[0m 15ms/step - accuracy: 0.9381 - loss: 0.2979 - val_accuracy: 0.7960 - val_loss: 0.9362\n",
      "Epoch 12/20\n",
      "\u001b[1m16/16\u001b[0m \u001b[32m━━━━━━━━━━━━━━━━━━━━\u001b[0m\u001b[37m\u001b[0m \u001b[1m0s\u001b[0m 15ms/step - accuracy: 0.9420 - loss: 0.2644 - val_accuracy: 0.7920 - val_loss: 0.9647\n",
      "Epoch 13/20\n",
      "\u001b[1m16/16\u001b[0m \u001b[32m━━━━━━━━━━━━━━━━━━━━\u001b[0m\u001b[37m\u001b[0m \u001b[1m0s\u001b[0m 17ms/step - accuracy: 0.9502 - loss: 0.2283 - val_accuracy: 0.8170 - val_loss: 0.9010\n",
      "Epoch 14/20\n",
      "\u001b[1m16/16\u001b[0m \u001b[32m━━━━━━━━━━━━━━━━━━━━\u001b[0m\u001b[37m\u001b[0m \u001b[1m0s\u001b[0m 15ms/step - accuracy: 0.9498 - loss: 0.2093 - val_accuracy: 0.8200 - val_loss: 0.9102\n",
      "Epoch 15/20\n",
      "\u001b[1m16/16\u001b[0m \u001b[32m━━━━━━━━━━━━━━━━━━━━\u001b[0m\u001b[37m\u001b[0m \u001b[1m0s\u001b[0m 15ms/step - accuracy: 0.9581 - loss: 0.1781 - val_accuracy: 0.8200 - val_loss: 0.9062\n",
      "Epoch 16/20\n",
      "\u001b[1m16/16\u001b[0m \u001b[32m━━━━━━━━━━━━━━━━━━━━\u001b[0m\u001b[37m\u001b[0m \u001b[1m0s\u001b[0m 22ms/step - accuracy: 0.9561 - loss: 0.1630 - val_accuracy: 0.8170 - val_loss: 0.9095\n",
      "Epoch 17/20\n",
      "\u001b[1m16/16\u001b[0m \u001b[32m━━━━━━━━━━━━━━━━━━━━\u001b[0m\u001b[37m\u001b[0m \u001b[1m0s\u001b[0m 15ms/step - accuracy: 0.9577 - loss: 0.1503 - val_accuracy: 0.8170 - val_loss: 0.9351\n",
      "Epoch 18/20\n",
      "\u001b[1m16/16\u001b[0m \u001b[32m━━━━━━━━━━━━━━━━━━━━\u001b[0m\u001b[37m\u001b[0m \u001b[1m0s\u001b[0m 14ms/step - accuracy: 0.9606 - loss: 0.1391 - val_accuracy: 0.7980 - val_loss: 0.9866\n",
      "Epoch 19/20\n",
      "\u001b[1m16/16\u001b[0m \u001b[32m━━━━━━━━━━━━━━━━━━━━\u001b[0m\u001b[37m\u001b[0m \u001b[1m0s\u001b[0m 17ms/step - accuracy: 0.9600 - loss: 0.1415 - val_accuracy: 0.8040 - val_loss: 0.9949\n",
      "Epoch 20/20\n",
      "\u001b[1m16/16\u001b[0m \u001b[32m━━━━━━━━━━━━━━━━━━━━\u001b[0m\u001b[37m\u001b[0m \u001b[1m0s\u001b[0m 15ms/step - accuracy: 0.9568 - loss: 0.1321 - val_accuracy: 0.8030 - val_loss: 1.0076\n"
     ]
    }
   ],
   "source": [
    "history = model.fit(\n",
    "    partial_x_train,\n",
    "    partial_y_train,\n",
    "    epochs=20,\n",
    "    batch_size=512,\n",
    "    validation_data=(x_val,y_val)\n",
    ")"
   ]
  },
  {
   "cell_type": "code",
   "execution_count": 12,
   "id": "d5d5df53-514e-4329-a365-08d5ddd5aff2",
   "metadata": {},
   "outputs": [
    {
     "data": {
      "text/plain": [
       "dict_keys(['accuracy', 'loss', 'val_accuracy', 'val_loss'])"
      ]
     },
     "execution_count": 12,
     "metadata": {},
     "output_type": "execute_result"
    }
   ],
   "source": [
    "history_dict = history.history\n",
    "history_dict.keys()"
   ]
  },
  {
   "cell_type": "code",
   "execution_count": 13,
   "id": "aa5d4200-a192-4454-b012-98fa861196ad",
   "metadata": {},
   "outputs": [
    {
     "name": "stdout",
     "output_type": "stream",
     "text": [
      "(7982, 10000)\n",
      "(7982, 46)\n"
     ]
    }
   ],
   "source": [
    "print(partial_x_train.shape)\n",
    "print(partial_y_train.shape)"
   ]
  },
  {
   "cell_type": "code",
   "execution_count": 14,
   "id": "11eee16a-255b-44dd-8975-8172373c0bb3",
   "metadata": {},
   "outputs": [
    {
     "data": {
      "image/png": "[encoded data removed]",
      "text/plain": [
       "<Figure size 640x480 with 1 Axes>"
      ]
     },
     "metadata": {},
     "output_type": "display_data"
    }
   ],
   "source": [
    "import matplotlib.pyplot as plt\n",
    "loss = history.history['loss']\n",
    "val_loss = history.history['val_loss']\n",
    "epochs = range(1, len(loss) + 1)\n",
    "plt.plot(epochs, loss, 'bo', label='Training loss')\n",
    "plt.plot(epochs, val_loss, 'r-.', label='Validation loss')\n",
    "plt.title('Training and validation loss')\n",
    "plt.xlabel('Epochs')\n",
    "plt.ylabel('Loss')\n",
    "plt.legend()\n",
    "plt.show()"
   ]
  },
  {
   "cell_type": "code",
   "execution_count": 15,
   "id": "cf711540-3167-4669-b135-72deb69f8164",
   "metadata": {},
   "outputs": [
    {
     "data": {
      "image/png": "[encoded data removed]",
      "text/plain": [
       "<Figure size 640x480 with 1 Axes>"
      ]
     },
     "metadata": {},
     "output_type": "display_data"
    }
   ],
   "source": [
    "plt.clf()\n",
    "acc = history.history['accuracy']\n",
    "val_acc = history.history['val_accuracy']\n",
    "plt.plot(epochs, acc, 'bo', label='Training acc')\n",
    "plt.plot(epochs, val_acc, 'r-.', label='Validation acc')\n",
    "plt.title('Training and validation accuracy')\n",
    "plt.xlabel('Epochs')\n",
    "plt.ylabel('Accuracy')\n",
    "plt.legend()\n",
    "plt.show()"
   ]
  },
  {
   "cell_type": "code",
   "execution_count": 17,
   "id": "7430efe1-e280-425f-b348-d55892c475f7",
   "metadata": {},
   "outputs": [
    {
     "name": "stdout",
     "output_type": "stream",
     "text": [
      "Epoch 1/9\n",
      "\u001b[1m16/16\u001b[0m \u001b[32m━━━━━━━━━━━━━━━━━━━━\u001b[0m\u001b[37m\u001b[0m \u001b[1m2s\u001b[0m 32ms/step - accuracy: 0.3427 - loss: 3.1344 - val_accuracy: 0.6200 - val_loss: 1.8045\n",
      "Epoch 2/9\n",
      "\u001b[1m16/16\u001b[0m \u001b[32m━━━━━━━━━━━━━━━━━━━━\u001b[0m\u001b[37m\u001b[0m \u001b[1m1s\u001b[0m 22ms/step - accuracy: 0.6724 - loss: 1.5930 - val_accuracy: 0.6960 - val_loss: 1.3559\n",
      "Epoch 3/9\n",
      "\u001b[1m16/16\u001b[0m \u001b[32m━━━━━━━━━━━━━━━━━━━━\u001b[0m\u001b[37m\u001b[0m \u001b[1m0s\u001b[0m 19ms/step - accuracy: 0.7488 - loss: 1.1950 - val_accuracy: 0.7370 - val_loss: 1.1877\n",
      "Epoch 4/9\n",
      "\u001b[1m16/16\u001b[0m \u001b[32m━━━━━━━━━━━━━━━━━━━━\u001b[0m\u001b[37m\u001b[0m \u001b[1m0s\u001b[0m 23ms/step - accuracy: 0.7941 - loss: 0.9487 - val_accuracy: 0.7560 - val_loss: 1.0836\n",
      "Epoch 5/9\n",
      "\u001b[1m16/16\u001b[0m \u001b[32m━━━━━━━━━━━━━━━━━━━━\u001b[0m\u001b[37m\u001b[0m \u001b[1m0s\u001b[0m 19ms/step - accuracy: 0.8219 - loss: 0.8337 - val_accuracy: 0.7790 - val_loss: 1.0162\n",
      "Epoch 6/9\n",
      "\u001b[1m16/16\u001b[0m \u001b[32m━━━━━━━━━━━━━━━━━━━━\u001b[0m\u001b[37m\u001b[0m \u001b[1m0s\u001b[0m 21ms/step - accuracy: 0.8521 - loss: 0.6769 - val_accuracy: 0.8070 - val_loss: 0.9562\n",
      "Epoch 7/9\n",
      "\u001b[1m16/16\u001b[0m \u001b[32m━━━━━━━━━━━━━━━━━━━━\u001b[0m\u001b[37m\u001b[0m \u001b[1m0s\u001b[0m 17ms/step - accuracy: 0.8864 - loss: 0.5492 - val_accuracy: 0.8120 - val_loss: 0.9163\n",
      "Epoch 8/9\n",
      "\u001b[1m16/16\u001b[0m \u001b[32m━━━━━━━━━━━━━━━━━━━━\u001b[0m\u001b[37m\u001b[0m \u001b[1m0s\u001b[0m 19ms/step - accuracy: 0.9047 - loss: 0.4835 - val_accuracy: 0.8050 - val_loss: 0.9101\n",
      "Epoch 9/9\n",
      "\u001b[1m16/16\u001b[0m \u001b[32m━━━━━━━━━━━━━━━━━━━━\u001b[0m\u001b[37m\u001b[0m \u001b[1m0s\u001b[0m 18ms/step - accuracy: 0.9206 - loss: 0.3977 - val_accuracy: 0.8120 - val_loss: 0.8887\n",
      "\u001b[1m71/71\u001b[0m \u001b[32m━━━━━━━━━━━━━━━━━━━━\u001b[0m\u001b[37m\u001b[0m \u001b[1m0s\u001b[0m 3ms/step - accuracy: 0.7993 - loss: 0.9608 \n"
     ]
    }
   ],
   "source": [
    "model = models.Sequential()\n",
    "model.add(Input(shape=(10000,)))\n",
    "model.add(layers.Dense(64, activation='relu'))\n",
    "model.add(layers.Dense(64, activation='relu'))\n",
    "model.add(layers.Dense(46, activation='softmax'))\n",
    "model.compile(optimizer='rmsprop',\n",
    "             loss='categorical_crossentropy',\n",
    "             metrics=['accuracy'])\n",
    "model.fit(partial_x_train,\n",
    "         partial_y_train,\n",
    "         epochs=9,\n",
    "         batch_size=512,\n",
    "         validation_data=(x_val, y_val))\n",
    "results = model.evaluate(x_test, one_hot_test_labels)"
   ]
  },
  {
   "cell_type": "code",
   "execution_count": 18,
   "id": "43055b33-3932-465b-9947-9d4a63052510",
   "metadata": {},
   "outputs": [
    {
     "data": {
      "text/plain": [
       "[0.9747166633605957, 0.7845057845115662]"
      ]
     },
     "execution_count": 18,
     "metadata": {},
     "output_type": "execute_result"
    }
   ],
   "source": [
    "results"
   ]
  },
  {
   "cell_type": "markdown",
   "id": "9c8481f9-af90-4554-b109-d8980f317678",
   "metadata": {},
   "source": [
    "这种方法可以得到约 80% 的精度。对于平衡的二分类问题，完全随机的分类器能够得到\n",
    "50% 的精度。但在这个例子中，完全随机的精度约为 19%，所以上述结果相当不错，至少和随\n",
    "机的基准比起来还不错"
   ]
  },
  {
   "cell_type": "markdown",
   "id": "90d24af9-7708-419a-b917-67e15878526a",
   "metadata": {},
   "source": [
    "###  3.5.5　在新数据上生成预测结果"
   ]
  },
  {
   "cell_type": "markdown",
   "id": "3c350af3-59ee-4939-91c5-651749b6ea3b",
   "metadata": {},
   "source": [
    "你可以验证，模型实例的 predict 方法返回了在 46 个主题上的概率分布。我们对所有测\n",
    "试数据生成主题预测。"
   ]
  },
  {
   "cell_type": "code",
   "execution_count": 20,
   "id": "db266085-f029-48ee-b6a3-5e9a45694240",
   "metadata": {},
   "outputs": [
    {
     "name": "stdout",
     "output_type": "stream",
     "text": [
      "\u001b[1m71/71\u001b[0m \u001b[32m━━━━━━━━━━━━━━━━━━━━\u001b[0m\u001b[37m\u001b[0m \u001b[1m0s\u001b[0m 2ms/step \n"
     ]
    }
   ],
   "source": [
    "predictions = model.predict(x_test)"
   ]
  },
  {
   "cell_type": "code",
   "execution_count": 21,
   "id": "ba892854-d5a5-4453-8140-6a2efab4ab30",
   "metadata": {},
   "outputs": [
    {
     "data": {
      "text/plain": [
       "(46,)"
      ]
     },
     "execution_count": 21,
     "metadata": {},
     "output_type": "execute_result"
    }
   ],
   "source": [
    "predictions[0].shape"
   ]
  },
  {
   "cell_type": "code",
   "execution_count": 22,
   "id": "7e428105-7ef5-4665-a9a7-0ed753d8e55e",
   "metadata": {},
   "outputs": [
    {
     "data": {
      "text/plain": [
       "1.0"
      ]
     },
     "execution_count": 22,
     "metadata": {},
     "output_type": "execute_result"
    }
   ],
   "source": [
    "np.sum(predictions[0])"
   ]
  },
  {
   "cell_type": "code",
   "execution_count": 23,
   "id": "9b1f32ff-bcfe-4e97-9fab-9e2cec093698",
   "metadata": {},
   "outputs": [
    {
     "data": {
      "text/plain": [
       "3"
      ]
     },
     "execution_count": 23,
     "metadata": {},
     "output_type": "execute_result"
    }
   ],
   "source": [
    "np.argmax(predictions[0])"
   ]
  },
  {
   "cell_type": "markdown",
   "id": "42f9fba7-fc0a-416b-9fa5-0cf9f972ad3e",
   "metadata": {},
   "source": [
    "### 3.5.6　处理标签和损失的另一种方法"
   ]
  },
  {
   "cell_type": "markdown",
   "id": "a09eccea-1659-4ee3-b572-167ddddcbf03",
   "metadata": {},
   "source": [
    "前面提到了另一种编码标签的方法，就是将其转换为整数张量，如下所示。"
   ]
  },
  {
   "cell_type": "markdown",
   "id": "484577fe-ea73-473f-94f7-a4c4b5564ea7",
   "metadata": {},
   "source": [
    "```python\n",
    "y_train = np.array(train_labels)\n",
    "y_test = np.array(test_labels)\n",
    "```"
   ]
  },
  {
   "cell_type": "markdown",
   "id": "528852a1-80ae-4a1c-a11d-71eaf80104d5",
   "metadata": {},
   "source": [
    "对于这种编码方法，唯一需要改变的是损失函数的选择。对于代码清单 3-21 使用的损失\n",
    "函数 categorical_crossentropy，标签应该遵循分类编码。对于整数标签，你应该使用\n",
    "```python\n",
    "sparse_categorical_crossentropy。\n",
    "    model.compile(optimizer='rmsprop',\n",
    "                 loss='sparse_categorical_crossentropy',\n",
    "                 metrics=['acc'])\n",
    " ```\n",
    "这个新的损失函数在数学上与 categorical_crossentropy 完全相同，二者只是接口不同。\n"
   ]
  },
  {
   "cell_type": "markdown",
   "id": "502ac441-f894-43c7-9cf9-29ba46cf6aa5",
   "metadata": {},
   "source": [
    "### 3.5.7　中间层维度足够大的重要性"
   ]
  },
  {
   "cell_type": "markdown",
   "id": "ee8914cf-ae9d-4b9b-93f6-0462d2450e14",
   "metadata": {},
   "source": [
    "前面提到，最终输出是 46 维的，因此中间层的隐藏单元个数不应该比 46 小太多。现在来\n",
    "看一下，如果中间层的维度远远小于 46（比如 4 维），造成了信息瓶颈，那么会发生什么？"
   ]
  },
  {
   "cell_type": "markdown",
   "id": "6aa33816-f561-4827-b371-b05e383462de",
   "metadata": {},
   "source": [
    "#### 代码清单 3-23　具有信息瓶颈的模型"
   ]
  },
  {
   "cell_type": "code",
   "execution_count": 24,
   "id": "524c17e0-fa28-49fc-91f6-74438576877c",
   "metadata": {},
   "outputs": [],
   "source": [
    "model = models.Sequential()"
   ]
  },
  {
   "cell_type": "code",
   "execution_count": 27,
   "id": "f3c78180-cdd2-4b5d-a02a-c1feb557c0a3",
   "metadata": {},
   "outputs": [],
   "source": [
    "# model.add(Input(shape=(10000,)))\n",
    "model.add(layers.Dense(64,activation='relu'))\n",
    "model.add(layers.Dense(4,activation='relu'))\n",
    "model.add(layers.Dense(46,activation='softmax'))"
   ]
  },
  {
   "cell_type": "code",
   "execution_count": 28,
   "id": "03041dec-77ed-406e-bb30-4bcee1e99001",
   "metadata": {},
   "outputs": [],
   "source": [
    "model.compile(\n",
    "    optimizer='rmsprop',\n",
    "    loss='categorical_crossentropy',\n",
    "    metrics=['accuracy']\n",
    ")"
   ]
  },
  {
   "cell_type": "code",
   "execution_count": 29,
   "id": "83999d7a-d84d-4a2f-81df-5fb83abbbb45",
   "metadata": {},
   "outputs": [
    {
     "name": "stdout",
     "output_type": "stream",
     "text": [
      "Epoch 1/20\n",
      "\u001b[1m63/63\u001b[0m \u001b[32m━━━━━━━━━━━━━━━━━━━━\u001b[0m\u001b[37m\u001b[0m \u001b[1m2s\u001b[0m 27ms/step - accuracy: 0.2112 - loss: 3.3647 - val_accuracy: 0.2220 - val_loss: 2.7436\n",
      "Epoch 2/20\n",
      "\u001b[1m63/63\u001b[0m \u001b[32m━━━━━━━━━━━━━━━━━━━━\u001b[0m\u001b[37m\u001b[0m \u001b[1m1s\u001b[0m 8ms/step - accuracy: 0.2228 - loss: 2.6257 - val_accuracy: 0.2370 - val_loss: 2.2507\n",
      "Epoch 3/20\n",
      "\u001b[1m63/63\u001b[0m \u001b[32m━━━━━━━━━━━━━━━━━━━━\u001b[0m\u001b[37m\u001b[0m \u001b[1m1s\u001b[0m 16ms/step - accuracy: 0.2674 - loss: 2.0824 - val_accuracy: 0.6280 - val_loss: 1.7285\n",
      "Epoch 4/20\n",
      "\u001b[1m63/63\u001b[0m \u001b[32m━━━━━━━━━━━━━━━━━━━━\u001b[0m\u001b[37m\u001b[0m \u001b[1m1s\u001b[0m 13ms/step - accuracy: 0.6519 - loss: 1.5564 - val_accuracy: 0.6980 - val_loss: 1.3974\n",
      "Epoch 5/20\n",
      "\u001b[1m63/63\u001b[0m \u001b[32m━━━━━━━━━━━━━━━━━━━━\u001b[0m\u001b[37m\u001b[0m \u001b[1m1s\u001b[0m 20ms/step - accuracy: 0.7199 - loss: 1.2324 - val_accuracy: 0.7030 - val_loss: 1.2853\n",
      "Epoch 6/20\n",
      "\u001b[1m63/63\u001b[0m \u001b[32m━━━━━━━━━━━━━━━━━━━━\u001b[0m\u001b[37m\u001b[0m \u001b[1m1s\u001b[0m 7ms/step - accuracy: 0.7488 - loss: 1.0587 - val_accuracy: 0.7210 - val_loss: 1.2308\n",
      "Epoch 7/20\n",
      "\u001b[1m63/63\u001b[0m \u001b[32m━━━━━━━━━━━━━━━━━━━━\u001b[0m\u001b[37m\u001b[0m \u001b[1m1s\u001b[0m 13ms/step - accuracy: 0.7740 - loss: 0.9494 - val_accuracy: 0.7190 - val_loss: 1.2068\n",
      "Epoch 8/20\n",
      "\u001b[1m63/63\u001b[0m \u001b[32m━━━━━━━━━━━━━━━━━━━━\u001b[0m\u001b[37m\u001b[0m \u001b[1m2s\u001b[0m 17ms/step - accuracy: 0.7891 - loss: 0.8739 - val_accuracy: 0.7340 - val_loss: 1.1904\n",
      "Epoch 9/20\n",
      "\u001b[1m63/63\u001b[0m \u001b[32m━━━━━━━━━━━━━━━━━━━━\u001b[0m\u001b[37m\u001b[0m \u001b[1m2s\u001b[0m 18ms/step - accuracy: 0.7981 - loss: 0.8306 - val_accuracy: 0.7270 - val_loss: 1.1880\n",
      "Epoch 10/20\n",
      "\u001b[1m63/63\u001b[0m \u001b[32m━━━━━━━━━━━━━━━━━━━━\u001b[0m\u001b[37m\u001b[0m \u001b[1m1s\u001b[0m 16ms/step - accuracy: 0.8152 - loss: 0.7463 - val_accuracy: 0.7240 - val_loss: 1.1960\n",
      "Epoch 11/20\n",
      "\u001b[1m63/63\u001b[0m \u001b[32m━━━━━━━━━━━━━━━━━━━━\u001b[0m\u001b[37m\u001b[0m \u001b[1m1s\u001b[0m 15ms/step - accuracy: 0.8293 - loss: 0.6749 - val_accuracy: 0.7300 - val_loss: 1.2369\n",
      "Epoch 12/20\n",
      "\u001b[1m63/63\u001b[0m \u001b[32m━━━━━━━━━━━━━━━━━━━━\u001b[0m\u001b[37m\u001b[0m \u001b[1m2s\u001b[0m 15ms/step - accuracy: 0.8344 - loss: 0.6649 - val_accuracy: 0.7300 - val_loss: 1.2197\n",
      "Epoch 13/20\n",
      "\u001b[1m63/63\u001b[0m \u001b[32m━━━━━━━━━━━━━━━━━━━━\u001b[0m\u001b[37m\u001b[0m \u001b[1m2s\u001b[0m 17ms/step - accuracy: 0.8381 - loss: 0.6237 - val_accuracy: 0.7260 - val_loss: 1.2810\n",
      "Epoch 14/20\n",
      "\u001b[1m63/63\u001b[0m \u001b[32m━━━━━━━━━━━━━━━━━━━━\u001b[0m\u001b[37m\u001b[0m \u001b[1m1s\u001b[0m 9ms/step - accuracy: 0.8516 - loss: 0.5791 - val_accuracy: 0.7310 - val_loss: 1.2827\n",
      "Epoch 15/20\n",
      "\u001b[1m63/63\u001b[0m \u001b[32m━━━━━━━━━━━━━━━━━━━━\u001b[0m\u001b[37m\u001b[0m \u001b[1m1s\u001b[0m 15ms/step - accuracy: 0.8609 - loss: 0.5343 - val_accuracy: 0.7270 - val_loss: 1.3260\n",
      "Epoch 16/20\n",
      "\u001b[1m63/63\u001b[0m \u001b[32m━━━━━━━━━━━━━━━━━━━━\u001b[0m\u001b[37m\u001b[0m \u001b[1m1s\u001b[0m 10ms/step - accuracy: 0.8601 - loss: 0.5280 - val_accuracy: 0.7320 - val_loss: 1.3370\n",
      "Epoch 17/20\n",
      "\u001b[1m63/63\u001b[0m \u001b[32m━━━━━━━━━━━━━━━━━━━━\u001b[0m\u001b[37m\u001b[0m \u001b[1m1s\u001b[0m 12ms/step - accuracy: 0.8658 - loss: 0.4992 - val_accuracy: 0.7300 - val_loss: 1.3515\n",
      "Epoch 18/20\n",
      "\u001b[1m63/63\u001b[0m \u001b[32m━━━━━━━━━━━━━━━━━━━━\u001b[0m\u001b[37m\u001b[0m \u001b[1m1s\u001b[0m 16ms/step - accuracy: 0.8704 - loss: 0.5074 - val_accuracy: 0.7290 - val_loss: 1.3944\n",
      "Epoch 19/20\n",
      "\u001b[1m63/63\u001b[0m \u001b[32m━━━━━━━━━━━━━━━━━━━━\u001b[0m\u001b[37m\u001b[0m \u001b[1m2s\u001b[0m 19ms/step - accuracy: 0.8753 - loss: 0.4506 - val_accuracy: 0.7240 - val_loss: 1.4702\n",
      "Epoch 20/20\n",
      "\u001b[1m63/63\u001b[0m \u001b[32m━━━━━━━━━━━━━━━━━━━━\u001b[0m\u001b[37m\u001b[0m \u001b[1m1s\u001b[0m 10ms/step - accuracy: 0.8717 - loss: 0.4462 - val_accuracy: 0.7220 - val_loss: 1.5039\n"
     ]
    },
    {
     "data": {
      "text/plain": [
       "<keras.src.callbacks.history.History at 0x1f7ad906c50>"
      ]
     },
     "execution_count": 29,
     "metadata": {},
     "output_type": "execute_result"
    }
   ],
   "source": [
    "model.fit(partial_x_train,\n",
    "         partial_y_train,\n",
    "         epochs=20,\n",
    "         batch_size=128,\n",
    "         validation_data=(x_val, y_val))\n"
   ]
  },
  {
   "cell_type": "markdown",
   "id": "89a51420-fc15-4aaa-b294-80951fa3dd9b",
   "metadata": {},
   "source": [
    "现在网络的验证精度最大约为 71%，比前面下降了 8%。导致这一下降的主要原因在于，你\n",
    "试图将大量信息（这些信息足够恢复 46 个类别的分割超平面）压缩到维度很小的中间空间。网\n",
    "络能够将大部分必要信息塞入这个四维表示中，但并不是全部信息。"
   ]
  },
  {
   "cell_type": "markdown",
   "id": "26cf9876-56f1-487b-af1f-abadbff69faa",
   "metadata": {},
   "source": [
    "### 3.5.8　进一步的实验"
   ]
  },
  {
   "cell_type": "markdown",
   "id": "16c63ece-93ba-4822-a759-17909066fcff",
   "metadata": {},
   "source": [
    "- 尝试使用更多或更少的隐藏单元，比如 32 个、128 个等。\n",
    "- 前面使用了两个隐藏层，现在尝试使用一个或三个隐藏层。\n"
   ]
  },
  {
   "cell_type": "markdown",
   "id": "c1a50d72-e886-47c2-af16-5532e607a050",
   "metadata": {},
   "source": [
    "### 3.5.9　小结"
   ]
  },
  {
   "cell_type": "markdown",
   "id": "a3920a41-1319-4bca-9b1e-704f0ffbafa5",
   "metadata": {},
   "source": [
    "下面是你应该从这个例子中学到的要点。    \n",
    "<p class=\"important\">如果要对 N 个类别的数据点进行分类，网络的最后一层应该是大小为 N 的 Dense 层。</p>\n",
    " 对于单标签、多分类问题，网络的最后一层应该使用 softmax 激活，这样可以输出在 N\n",
    "个输出类别上的概率分布。               \n",
    " 这种问题的损失函数几乎总是应该使用分类交叉熵。它将网络输出的概率分布与目标的\n",
    "真实分布之间的距离最小化。             \n",
    " 处理多分类问题的标签有两种方法。                          \n",
    "- 通过分类编码（也叫 one-hot 编码）对标签进行编码，然后使用 categorical_\n",
    "    crossentropy 作为损失函数。        \n",
    "- 将标签编码为整数，然后使用 sparse_categorical_crossentropy 损失函数。\n",
    "\n",
    " 如果你需要将数据划分到许多类别中，应该避免使用太小的中间层，以免在网络中造成\n",
    "信息瓶颈。   "
   ]
  },
  {
   "cell_type": "code",
   "execution_count": null,
   "id": "1dc42beb-3dea-435b-a0e1-563cb12411b8",
   "metadata": {},
   "outputs": [],
   "source": []
  }
 ],
 "metadata": {
  "kernelspec": {
   "display_name": "Python 3 (ipykernel)",
   "language": "python",
   "name": "python3"
  },
  "language_info": {
   "codemirror_mode": {
    "name": "ipython",
    "version": 3
   },
   "file_extension": ".py",
   "mimetype": "text/x-python",
   "name": "python",
   "nbconvert_exporter": "python",
   "pygments_lexer": "ipython3",
   "version": "3.11.9"
  }
 },
 "nbformat": 4,
 "nbformat_minor": 5
}
