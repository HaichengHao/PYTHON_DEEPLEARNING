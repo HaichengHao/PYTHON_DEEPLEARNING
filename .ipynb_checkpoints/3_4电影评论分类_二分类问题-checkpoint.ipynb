{
 "cells": [
  {
   "cell_type": "markdown",
   "id": "330c5426-b8b8-4b67-9c5b-f10601e9414c",
   "metadata": {},
   "source": [
    "## 3.4 电影评论分类：二分类问题"
   ]
  },
  {
   "cell_type": "markdown",
   "id": "5b5fd004-a631-421c-bc3e-b37aac22f9ff",
   "metadata": {},
   "source": [
    "二分类问题可能是应用最广泛的机器学习问题。在这个例子中，你将学习根据电影评论的\n",
    "文字内容将其划分为正面或负面。"
   ]
  },
  {
   "cell_type": "markdown",
   "id": "cbbad76e-9568-47ab-ae21-edf136ed0a6d",
   "metadata": {},
   "source": [
    "### 3.4.1 IMDB 数据集"
   ]
  },
  {
   "cell_type": "markdown",
   "id": "5fdd0d21-eb81-422a-b98f-6143aad7fc14",
   "metadata": {},
   "source": [
    "本节使用 IMDB 数据集，它包含来自互联网电影数据库（IMDB）的 50 000 条严重两极分\n",
    "化的评论。数据集被分为用于训练的 25 000 条评论与用于测试的 25 000 条评论，训练集和测试\n",
    "集都包含 50% 的正面评论和 50% 的负面评论。     \n",
    "为什么要将训练集和测试集分开？因为你不应该将训练机器学习模型的同一批数据再用于\n",
    "测试模型！模型在训练数据上的表现很好，并不意味着它在前所未见的数据上也会表现得很好，\n",
    "而且你真正关心的是模型在新数据上的性能（因为你已经知道了训练数据对应的标签，显然不\n",
    "再需要模型来进行预测）。例如，你的模型最终可能只是记住了训练样本和目标值之间的映射关\n",
    "系，但这对在前所未见的数据上进行预测毫无用处。下一章将会更详细地讨论这一点。           \n",
    "与 MNIST 数据集一样，IMDB 数据集也内置于 Keras 库。它已经过预处理：评论（单词序列）\n",
    "已经被转换为整数序列，其中每个整数代表字典中的某个单词。        \n",
    "下列代码将会加载 IMDB 数据集（第一次运行时会下载大约 80MB 的数据）。"
   ]
  },
  {
   "cell_type": "markdown",
   "id": "2e8de812-9370-4925-9e5e-798358bf6bd8",
   "metadata": {},
   "source": [
    "#### 代码清单 3-1 加载 IMDB 数据集"
   ]
  },
  {
   "cell_type": "code",
   "execution_count": 1,
   "id": "4bb6865a-a388-4e29-baa1-ce8e8221ffc9",
   "metadata": {},
   "outputs": [],
   "source": [
    "from keras.datasets import imdb"
   ]
  },
  {
   "cell_type": "code",
   "execution_count": 2,
   "id": "33da2db6-9d3a-4cde-9b95-f50eed9b064e",
   "metadata": {},
   "outputs": [],
   "source": [
    "(train_data,train_labels),(test_data,test_labels) = imdb.load_data(num_words=10000)"
   ]
  },
  {
   "cell_type": "markdown",
   "id": "d5b33c34-d1bb-4267-9b3b-08a26a5e9f20",
   "metadata": {},
   "source": [
    "参数 num_words=10000 的意思是仅保留训练数据中前 10 000 个最常出现的单词。低频单\n",
    "词将被舍弃。这样得到的向量数据不会太大，便于处理。\n",
    "train_data 和 test_data 这两个变量都是评论组成的列表，每条评论又是单词索引组成\n",
    "的列表（表示一系列单词）。train_labels 和 test_labels 都是 0 和 1 组成的列表，其中 0\n",
    "代表负面（negative），1 代表正面（positive）。"
   ]
  },
  {
   "cell_type": "code",
   "execution_count": 3,
   "id": "7a8e9f8a-7b80-4add-aff2-dae56b78740d",
   "metadata": {
    "scrolled": true
   },
   "outputs": [
    {
     "data": {
      "text/plain": [
       "[1,\n",
       " 14,\n",
       " 22,\n",
       " 16,\n",
       " 43,\n",
       " 530,\n",
       " 973,\n",
       " 1622,\n",
       " 1385,\n",
       " 65,\n",
       " 458,\n",
       " 4468,\n",
       " 66,\n",
       " 3941,\n",
       " 4,\n",
       " 173,\n",
       " 36,\n",
       " 256,\n",
       " 5,\n",
       " 25,\n",
       " 100,\n",
       " 43,\n",
       " 838,\n",
       " 112,\n",
       " 50,\n",
       " 670,\n",
       " 2,\n",
       " 9,\n",
       " 35,\n",
       " 480,\n",
       " 284,\n",
       " 5,\n",
       " 150,\n",
       " 4,\n",
       " 172,\n",
       " 112,\n",
       " 167,\n",
       " 2,\n",
       " 336,\n",
       " 385,\n",
       " 39,\n",
       " 4,\n",
       " 172,\n",
       " 4536,\n",
       " 1111,\n",
       " 17,\n",
       " 546,\n",
       " 38,\n",
       " 13,\n",
       " 447,\n",
       " 4,\n",
       " 192,\n",
       " 50,\n",
       " 16,\n",
       " 6,\n",
       " 147,\n",
       " 2025,\n",
       " 19,\n",
       " 14,\n",
       " 22,\n",
       " 4,\n",
       " 1920,\n",
       " 4613,\n",
       " 469,\n",
       " 4,\n",
       " 22,\n",
       " 71,\n",
       " 87,\n",
       " 12,\n",
       " 16,\n",
       " 43,\n",
       " 530,\n",
       " 38,\n",
       " 76,\n",
       " 15,\n",
       " 13,\n",
       " 1247,\n",
       " 4,\n",
       " 22,\n",
       " 17,\n",
       " 515,\n",
       " 17,\n",
       " 12,\n",
       " 16,\n",
       " 626,\n",
       " 18,\n",
       " 2,\n",
       " 5,\n",
       " 62,\n",
       " 386,\n",
       " 12,\n",
       " 8,\n",
       " 316,\n",
       " 8,\n",
       " 106,\n",
       " 5,\n",
       " 4,\n",
       " 2223,\n",
       " 5244,\n",
       " 16,\n",
       " 480,\n",
       " 66,\n",
       " 3785,\n",
       " 33,\n",
       " 4,\n",
       " 130,\n",
       " 12,\n",
       " 16,\n",
       " 38,\n",
       " 619,\n",
       " 5,\n",
       " 25,\n",
       " 124,\n",
       " 51,\n",
       " 36,\n",
       " 135,\n",
       " 48,\n",
       " 25,\n",
       " 1415,\n",
       " 33,\n",
       " 6,\n",
       " 22,\n",
       " 12,\n",
       " 215,\n",
       " 28,\n",
       " 77,\n",
       " 52,\n",
       " 5,\n",
       " 14,\n",
       " 407,\n",
       " 16,\n",
       " 82,\n",
       " 2,\n",
       " 8,\n",
       " 4,\n",
       " 107,\n",
       " 117,\n",
       " 5952,\n",
       " 15,\n",
       " 256,\n",
       " 4,\n",
       " 2,\n",
       " 7,\n",
       " 3766,\n",
       " 5,\n",
       " 723,\n",
       " 36,\n",
       " 71,\n",
       " 43,\n",
       " 530,\n",
       " 476,\n",
       " 26,\n",
       " 400,\n",
       " 317,\n",
       " 46,\n",
       " 7,\n",
       " 4,\n",
       " 2,\n",
       " 1029,\n",
       " 13,\n",
       " 104,\n",
       " 88,\n",
       " 4,\n",
       " 381,\n",
       " 15,\n",
       " 297,\n",
       " 98,\n",
       " 32,\n",
       " 2071,\n",
       " 56,\n",
       " 26,\n",
       " 141,\n",
       " 6,\n",
       " 194,\n",
       " 7486,\n",
       " 18,\n",
       " 4,\n",
       " 226,\n",
       " 22,\n",
       " 21,\n",
       " 134,\n",
       " 476,\n",
       " 26,\n",
       " 480,\n",
       " 5,\n",
       " 144,\n",
       " 30,\n",
       " 5535,\n",
       " 18,\n",
       " 51,\n",
       " 36,\n",
       " 28,\n",
       " 224,\n",
       " 92,\n",
       " 25,\n",
       " 104,\n",
       " 4,\n",
       " 226,\n",
       " 65,\n",
       " 16,\n",
       " 38,\n",
       " 1334,\n",
       " 88,\n",
       " 12,\n",
       " 16,\n",
       " 283,\n",
       " 5,\n",
       " 16,\n",
       " 4472,\n",
       " 113,\n",
       " 103,\n",
       " 32,\n",
       " 15,\n",
       " 16,\n",
       " 5345,\n",
       " 19,\n",
       " 178,\n",
       " 32]"
      ]
     },
     "execution_count": 3,
     "metadata": {},
     "output_type": "execute_result"
    }
   ],
   "source": [
    "train_data[0]"
   ]
  },
  {
   "cell_type": "code",
   "execution_count": 4,
   "id": "15357cc9-3783-4357-ad31-4c5a8a81eb18",
   "metadata": {},
   "outputs": [
    {
     "data": {
      "text/plain": [
       "1"
      ]
     },
     "execution_count": 4,
     "metadata": {},
     "output_type": "execute_result"
    }
   ],
   "source": [
    "train_labels[0]"
   ]
  },
  {
   "cell_type": "markdown",
   "id": "16257189-5916-417f-b7ef-9cea2723be70",
   "metadata": {},
   "source": [
    "由于限定为前 10 000 个最常见的单词，单词索引都不会超过 10 000。"
   ]
  },
  {
   "cell_type": "code",
   "execution_count": 3,
   "id": "cf6b75f3-d141-41bc-b682-33197fabb015",
   "metadata": {},
   "outputs": [
    {
     "data": {
      "text/plain": [
       "9999"
      ]
     },
     "execution_count": 3,
     "metadata": {},
     "output_type": "execute_result"
    }
   ],
   "source": [
    "max([max(sequence) for sequence in train_data])"
   ]
  },
  {
   "cell_type": "markdown",
   "id": "9e858ff0-05ec-4325-8eba-c7be615334e6",
   "metadata": {},
   "source": [
    "下面这段代码很有意思，你可以将某条评论迅速解码为英文单词。"
   ]
  },
  {
   "cell_type": "code",
   "execution_count": 4,
   "id": "5cdbeae2-0b2e-41dc-ae79-09220d0d882e",
   "metadata": {},
   "outputs": [],
   "source": [
    "word_index = imdb.get_word_index() #word_index 是一个将单词映射为整数索引的字典\n",
    "reverse_word_index = dict(\n",
    "    [(value,key) for (key,value) in word_index.items()]\n",
    ")\n",
    "decode_review=''.join(\n",
    "    [reverse_word_index.get(i - 3,'?') for i in train_data[0]]\n",
    ")"
   ]
  },
  {
   "cell_type": "markdown",
   "id": "c5182573-2fd9-48f1-9d2e-9ae59b8e4e56",
   "metadata": {},
   "source": [
    "### 3.4.2　准备数据"
   ]
  },
  {
   "cell_type": "markdown",
   "id": "1be8cd02-b00f-469f-a198-45be23cddfe4",
   "metadata": {},
   "source": [
    "你不能将整数序列直接输入神经网络。你需要将列表转换为张量。转换方法有以下两种。          \n",
    " 填充列表，使其具有相同的长度，再将列表转换成形状为 (samples, word_indices)\n",
    "的整数张量，然后网络第一层使用能处理这种整数张量的层（即 Embedding 层，本书\n",
    "后面会详细介绍）。      \n",
    " 对列表进行 one-hot 编码，将其转换为 0 和 1 组成的向量。举个例子，序列 [3, 5] 将会\n",
    "被转换为 10 000 维向量，只有索引为 3 和 5 的元素是 1，其余元素都是 0。然后网络第\n",
    "一层可以用 Dense 层，它能够处理浮点数向量数据。        \n",
    "下面我们采用后一种方法将数据向量化。为了加深理解，你可以手动实现这一方法，如下\n",
    "所示。     "
   ]
  },
  {
   "cell_type": "markdown",
   "id": "9d9ee0a4-ea45-4c7f-aa78-26f6ab07fd0f",
   "metadata": {},
   "source": [
    "#### 代码清单 3-2 将整数序列编码为二进制矩阵"
   ]
  },
  {
   "cell_type": "code",
   "execution_count": 3,
   "id": "cdb9c90f-1307-4364-8e16-61963619c796",
   "metadata": {},
   "outputs": [],
   "source": [
    "import numpy as np"
   ]
  },
  {
   "cell_type": "code",
   "execution_count": 4,
   "id": "9775d496-92dc-4440-b644-628c6f8a9239",
   "metadata": {},
   "outputs": [],
   "source": [
    "def vectorize_sequences(sequences,dimension=10000):\n",
    "    results = np.zeros((len(sequences),dimension))\n",
    "    for i,sequence in enumerate(sequences):\n",
    "        results[i,sequence] = 1\n",
    "    return results"
   ]
  },
  {
   "cell_type": "code",
   "execution_count": 5,
   "id": "44ec8304-1fbb-4066-a766-2ccda565b576",
   "metadata": {},
   "outputs": [],
   "source": [
    "x_train = vectorize_sequences(train_data)\n",
    "x_test = vectorize_sequences(test_data)"
   ]
  },
  {
   "cell_type": "markdown",
   "id": "ffba30e1-7037-4ee1-8af1-01ef95d51f27",
   "metadata": {},
   "source": [
    "样本现在变成了这样："
   ]
  },
  {
   "cell_type": "code",
   "execution_count": 8,
   "id": "a0623160-32fd-4aad-8b40-425372f93797",
   "metadata": {},
   "outputs": [
    {
     "data": {
      "text/plain": [
       "array([0., 1., 1., ..., 0., 0., 0.])"
      ]
     },
     "execution_count": 8,
     "metadata": {},
     "output_type": "execute_result"
    }
   ],
   "source": [
    "x_train[0]"
   ]
  },
  {
   "cell_type": "markdown",
   "id": "1607f5d8-d3a7-4779-9921-581bf7b9b9ff",
   "metadata": {},
   "source": [
    "你还应该将标签向量化，这很简单。"
   ]
  },
  {
   "cell_type": "code",
   "execution_count": 6,
   "id": "799ea2a3-3026-4987-a8ec-b9d2c6dbeb4d",
   "metadata": {},
   "outputs": [],
   "source": [
    "y_train = np.asarray(train_labels).astype('float32')"
   ]
  },
  {
   "cell_type": "code",
   "execution_count": 7,
   "id": "4d43be36-7680-407d-8fc0-5815cd0d2fd8",
   "metadata": {},
   "outputs": [],
   "source": [
    "y_test = np.asarray(test_labels).astype('float32')"
   ]
  },
  {
   "cell_type": "markdown",
   "id": "b4cdca29-2945-440b-a6bb-871fb4559d81",
   "metadata": {},
   "source": [
    "现在可以将数据输入到神经网络中。"
   ]
  },
  {
   "cell_type": "markdown",
   "id": "0ae31807-e5f6-43f6-bdec-b04b2c01b28c",
   "metadata": {},
   "source": [
    "### 3.4.3　构建网络"
   ]
  },
  {
   "cell_type": "markdown",
   "id": "e86e67da-4c62-4e57-b4f8-7eff5e2f3a90",
   "metadata": {},
   "source": [
    "输入数据是向量，而标签是标量（1 和 0），这是你会遇到的最简单的情况。有一类网\n",
    "络在这种问题上表现很好，就是带有 relu 激活的全连接层（Dense）的简单堆叠，比如\n",
    "Dense(16, activation='relu')。    \n",
    "传入 Dense 层的参数（16）是该层隐藏单元的个数。一个隐藏单元（hidden unit）是该层\n",
    "表示空间的一个维度。我们在第 2 章讲过，每个带有 relu 激活的 Dense 层都实现了下列张量\n",
    "运算："
   ]
  },
  {
   "cell_type": "markdown",
   "id": "83116a46-99de-4322-8862-c8d545f9283d",
   "metadata": {},
   "source": [
    "```python\n",
    "output = relu(dot(W,input)+b)\n",
    "```"
   ]
  },
  {
   "cell_type": "markdown",
   "id": "c14b0f43-40e7-4017-b504-1f88f26b43a0",
   "metadata": {},
   "source": [
    "16 个隐藏单元对应的权重矩阵 W 的形状为 (input_dimension, 16)，与 W 做点积相当于\n",
    "将输入数据投影到 16 维表示空间中（然后再加上偏置向量 b 并应用 relu 运算）。你可以将表\n",
    "示空间的维度直观地理解为“网络学习内部表示时所拥有的自由度”。隐藏单元越多（即更高维\n",
    "的表示空间），网络越能够学到更加复杂的表示，但网络的计算代价也变得更大，而且可能会导\n",
    "致学到不好的模式（这种模式会提高训练数据上的性能，但不会提高测试数据上的性能）。\n",
    "对于这种 Dense 层的堆叠，你需要确定以下两个关键架构：        \n",
    " 网络有多少层；       \n",
    " 每层有多少个隐藏单元。           \n",
    "第 4 章中的原则将会指导你对上述问题做出选择。现在你只需要相信我选择的下列架构：         \n",
    " 两个中间层，每层都有 16 个隐藏单元；          \n",
    " 第三层输出一个标量，预测当前评论的情感。           \n",
    "中间层使用 relu 作为激活函数，最后一层使用 sigmoid 激活以输出一个 0~1 范围内的概率\n",
    "值（表示样本的目标值等于 1 的可能性，即评论为正面的可能性）。relu（rectified linear unit，\n",
    "整流线性单元）函数将所有负值归零（见图 3-4），而 sigmoid 函数则将任意值“压缩”到 [0,\n",
    "1] 区间内（见图 3-5），其输出值可以看作概率值。"
   ]
  },
  {
   "cell_type": "markdown",
   "id": "cce44813-0193-4f3f-b860-d8eedebef49d",
   "metadata": {},
   "source": [
    "<img src ='imgs/3.png' class='atcenter'></img>"
   ]
  },
  {
   "cell_type": "markdown",
   "id": "33865a85-e53e-444a-83d5-c0d12a6af516",
   "metadata": {},
   "source": [
    "<p class='atcenter'> 3-4　整流线性单元函数</p>"
   ]
  },
  {
   "cell_type": "markdown",
   "id": "6fbd1287-bd85-4a1b-9761-38e57f6e16e9",
   "metadata": {},
   "source": [
    "<img src='imgs/3_5.png'></img>"
   ]
  },
  {
   "cell_type": "markdown",
   "id": "fe0e1e81-f08a-4425-8daf-cd93cf208dbd",
   "metadata": {},
   "source": [
    "图 3-6 显示了网络的结构。代码清单 3-3 是其 Keras 实现，与前面见过的 MNIST 例子类似。"
   ]
  },
  {
   "cell_type": "markdown",
   "id": "2dbc4257-c849-40ab-8c75-5616fb8a8d00",
   "metadata": {},
   "source": [
    "<img src='imgs/3_6.png'></img>"
   ]
  },
  {
   "cell_type": "markdown",
   "id": "da3b8969-eb86-4c3b-8e19-214cb4fef0cb",
   "metadata": {},
   "source": [
    "####  代码清单 3-3 模型定义"
   ]
  },
  {
   "cell_type": "code",
   "execution_count": 8,
   "id": "75039c7b-5d39-4d39-8827-5588ca555ccf",
   "metadata": {},
   "outputs": [],
   "source": [
    "from keras import models,layers\n",
    "from keras.models import Sequential\n",
    "from keras.layers import Dense,Input"
   ]
  },
  {
   "cell_type": "code",
   "execution_count": 16,
   "id": "9be8a542-9296-413e-b420-cdd3ea2a94e5",
   "metadata": {},
   "outputs": [],
   "source": [
    "model = models.Sequential()\n",
    "model.add(Input(shape=(10000,))) #显式添加Input层\n",
    "model.add(layers.Dense(16,activation='relu'))\n",
    "model.add(layers.Dense(16,activation='relu'))\n",
    "model.add(layers.Dense(1,activation='sigmoid'))"
   ]
  },
  {
   "cell_type": "code",
   "execution_count": 10,
   "id": "b59ddb56-ea68-49f0-94a8-ef1342fcf9eb",
   "metadata": {},
   "outputs": [
    {
     "data": {
      "text/plain": [
       "\u001b[1;31mSignature:\u001b[0m\n",
       "\u001b[0mmodel\u001b[0m\u001b[1;33m.\u001b[0m\u001b[0mcompile\u001b[0m\u001b[1;33m(\u001b[0m\u001b[1;33m\n",
       "\u001b[0m    \u001b[0moptimizer\u001b[0m\u001b[1;33m=\u001b[0m\u001b[1;34m'rmsprop'\u001b[0m\u001b[1;33m,\u001b[0m\u001b[1;33m\n",
       "\u001b[0m    \u001b[0mloss\u001b[0m\u001b[1;33m=\u001b[0m\u001b[1;32mNone\u001b[0m\u001b[1;33m,\u001b[0m\u001b[1;33m\n",
       "\u001b[0m    \u001b[0mloss_weights\u001b[0m\u001b[1;33m=\u001b[0m\u001b[1;32mNone\u001b[0m\u001b[1;33m,\u001b[0m\u001b[1;33m\n",
       "\u001b[0m    \u001b[0mmetrics\u001b[0m\u001b[1;33m=\u001b[0m\u001b[1;32mNone\u001b[0m\u001b[1;33m,\u001b[0m\u001b[1;33m\n",
       "\u001b[0m    \u001b[0mweighted_metrics\u001b[0m\u001b[1;33m=\u001b[0m\u001b[1;32mNone\u001b[0m\u001b[1;33m,\u001b[0m\u001b[1;33m\n",
       "\u001b[0m    \u001b[0mrun_eagerly\u001b[0m\u001b[1;33m=\u001b[0m\u001b[1;32mFalse\u001b[0m\u001b[1;33m,\u001b[0m\u001b[1;33m\n",
       "\u001b[0m    \u001b[0msteps_per_execution\u001b[0m\u001b[1;33m=\u001b[0m\u001b[1;36m1\u001b[0m\u001b[1;33m,\u001b[0m\u001b[1;33m\n",
       "\u001b[0m    \u001b[0mjit_compile\u001b[0m\u001b[1;33m=\u001b[0m\u001b[1;34m'auto'\u001b[0m\u001b[1;33m,\u001b[0m\u001b[1;33m\n",
       "\u001b[0m    \u001b[0mauto_scale_loss\u001b[0m\u001b[1;33m=\u001b[0m\u001b[1;32mTrue\u001b[0m\u001b[1;33m,\u001b[0m\u001b[1;33m\n",
       "\u001b[0m\u001b[1;33m)\u001b[0m\u001b[1;33m\u001b[0m\u001b[1;33m\u001b[0m\u001b[0m\n",
       "\u001b[1;31mDocstring:\u001b[0m\n",
       "Configures the model for training.\n",
       "\n",
       "Example:\n",
       "\n",
       "```python\n",
       "model.compile(\n",
       "    optimizer=keras.optimizers.Adam(learning_rate=1e-3),\n",
       "    loss=keras.losses.BinaryCrossentropy(),\n",
       "    metrics=[\n",
       "        keras.metrics.BinaryAccuracy(),\n",
       "        keras.metrics.FalseNegatives(),\n",
       "    ],\n",
       ")\n",
       "```\n",
       "\n",
       "Args:\n",
       "    optimizer: String (name of optimizer) or optimizer instance. See\n",
       "        `keras.optimizers`.\n",
       "    loss: Loss function. May be a string (name of loss function), or\n",
       "        a `keras.losses.Loss` instance. See `keras.losses`. A\n",
       "        loss function is any callable with the signature\n",
       "        `loss = fn(y_true, y_pred)`, where `y_true` are the ground truth\n",
       "        values, and `y_pred` are the model's predictions.\n",
       "        `y_true` should have shape `(batch_size, d0, .. dN)`\n",
       "        (except in the case of sparse loss functions such as\n",
       "        sparse categorical crossentropy which expects integer arrays of\n",
       "        shape `(batch_size, d0, .. dN-1)`).\n",
       "        `y_pred` should have shape `(batch_size, d0, .. dN)`.\n",
       "        The loss function should return a float tensor.\n",
       "    loss_weights: Optional list or dictionary specifying scalar\n",
       "        coefficients (Python floats) to weight the loss contributions of\n",
       "        different model outputs. The loss value that will be minimized\n",
       "        by the model will then be the *weighted sum* of all individual\n",
       "        losses, weighted by the `loss_weights` coefficients.  If a list,\n",
       "        it is expected to have a 1:1 mapping to the model's outputs. If\n",
       "        a dict, it is expected to map output names (strings) to scalar\n",
       "        coefficients.\n",
       "    metrics: List of metrics to be evaluated by the model during\n",
       "        training and testing. Each of this can be a string (name of a\n",
       "        built-in function), function or a `keras.metrics.Metric`\n",
       "        instance. See `keras.metrics`. Typically you will use\n",
       "        `metrics=['accuracy']`. A function is any callable with the\n",
       "        signature `result = fn(y_true, _pred)`. To specify different\n",
       "        metrics for different outputs of a multi-output model, you could\n",
       "        also pass a dictionary, such as\n",
       "        `metrics={'a':'accuracy', 'b':['accuracy', 'mse']}`.\n",
       "        You can also pass a list to specify a metric or a list of\n",
       "        metrics for each output, such as\n",
       "        `metrics=[['accuracy'], ['accuracy', 'mse']]`\n",
       "        or `metrics=['accuracy', ['accuracy', 'mse']]`. When you pass\n",
       "        the strings 'accuracy' or 'acc', we convert this to one of\n",
       "        `keras.metrics.BinaryAccuracy`,\n",
       "        `keras.metrics.CategoricalAccuracy`,\n",
       "        `keras.metrics.SparseCategoricalAccuracy` based on the\n",
       "        shapes of the targets and of the model output. A similar\n",
       "        conversion is done for the strings `\"crossentropy\"`\n",
       "        and `\"ce\"` as well.\n",
       "        The metrics passed here are evaluated without sample weighting;\n",
       "        if you would like sample weighting to apply, you can specify\n",
       "        your metrics via the `weighted_metrics` argument instead.\n",
       "    weighted_metrics: List of metrics to be evaluated and weighted by\n",
       "        `sample_weight` or `class_weight` during training and testing.\n",
       "    run_eagerly: Bool. If `True`, this model's forward pass\n",
       "         will never be compiled. It is recommended to leave this\n",
       "         as `False` when training (for best performance),\n",
       "         and to set it to `True` when debugging.\n",
       "    steps_per_execution: Int. The number of batches to run\n",
       "        during each a single compiled function call. Running multiple\n",
       "        batches inside a single compiled function call can\n",
       "        greatly improve performance on TPUs or small models with a large\n",
       "        Python overhead. At most, one full epoch will be run each\n",
       "        execution. If a number larger than the size of the epoch is\n",
       "        passed, the execution will be truncated to the size of the\n",
       "        epoch. Note that if `steps_per_execution` is set to `N`,\n",
       "        `Callback.on_batch_begin` and `Callback.on_batch_end` methods\n",
       "        will only be called every `N` batches (i.e. before/after\n",
       "        each compiled function execution).\n",
       "        Not supported with the PyTorch backend.\n",
       "    jit_compile: Bool or `\"auto\"`. Whether to use XLA compilation when\n",
       "        compiling a model. For `jax` and `tensorflow` backends,\n",
       "        `jit_compile=\"auto\"` enables XLA compilation if the model\n",
       "        supports it, and disabled otherwise.\n",
       "        For `torch` backend, `\"auto\"` will default to eager\n",
       "        execution and `jit_compile=True` will run with `torch.compile`\n",
       "        with the `\"inductor\"` backend.\n",
       "    auto_scale_loss: Bool. If `True` and the model dtype policy is\n",
       "        `\"mixed_float16\"`, the passed optimizer will be automatically\n",
       "        wrapped in a `LossScaleOptimizer`, which will dynamically\n",
       "        scale the loss to prevent underflow.\n",
       "\u001b[1;31mFile:\u001b[0m      d:\\envs\\dl\\lib\\site-packages\\keras\\src\\trainers\\trainer.py\n",
       "\u001b[1;31mType:\u001b[0m      method"
      ]
     },
     "metadata": {},
     "output_type": "display_data"
    }
   ],
   "source": [
    "model.compile?"
   ]
  },
  {
   "cell_type": "code",
   "execution_count": 11,
   "id": "1c518c93-eb6d-4283-a205-7c09bdc8f943",
   "metadata": {},
   "outputs": [],
   "source": [
    "from keras import losses\n",
    "from keras import metrics\n",
    "from keras import optimizers"
   ]
  },
  {
   "cell_type": "markdown",
   "id": "7e0399c0-4840-4153-8f0a-a83afd1914be",
   "metadata": {},
   "source": [
    "### 编译模型"
   ]
  },
  {
   "cell_type": "code",
   "execution_count": 12,
   "id": "5c1793e0-1ed9-435f-8f42-637274d71ef6",
   "metadata": {},
   "outputs": [],
   "source": [
    "model.compile(\n",
    "    optimizer=optimizers.RMSprop(learning_rate=0.001),\n",
    "    loss = losses.binary_crossentropy, #使用二元交叉熵\n",
    "    metrics=[metrics.binary_accuracy]\n",
    ")"
   ]
  },
  {
   "cell_type": "code",
   "execution_count": 13,
   "id": "c671bf50-af76-43bd-9443-e10e7eb439ae",
   "metadata": {},
   "outputs": [],
   "source": [
    "x_val = x_train[:10000]\n",
    "partial_x_train = x_train[10000:]\n",
    "y_val = y_train[:10000]\n",
    "partial_y_train = y_train[10000:]"
   ]
  },
  {
   "cell_type": "code",
   "execution_count": 18,
   "id": "98cf8e49-6946-4b90-b48a-c163426fc924",
   "metadata": {},
   "outputs": [],
   "source": [
    "model.compile(\n",
    "    optimizer = 'rmsprop',\n",
    "    loss='binary_crossentropy',\n",
    "    metrics=['acc']\n",
    ")"
   ]
  },
  {
   "cell_type": "code",
   "execution_count": 19,
   "id": "ed488dc0-96f4-45a5-9530-c8644d5d7756",
   "metadata": {},
   "outputs": [
    {
     "name": "stdout",
     "output_type": "stream",
     "text": [
      "Epoch 1/20\n",
      "\u001b[1m30/30\u001b[0m \u001b[32m━━━━━━━━━━━━━━━━━━━━\u001b[0m\u001b[37m\u001b[0m \u001b[1m3s\u001b[0m 43ms/step - acc: 0.6958 - loss: 0.6182 - val_acc: 0.8224 - val_loss: 0.4595\n",
      "Epoch 2/20\n",
      "\u001b[1m30/30\u001b[0m \u001b[32m━━━━━━━━━━━━━━━━━━━━\u001b[0m\u001b[37m\u001b[0m \u001b[1m0s\u001b[0m 13ms/step - acc: 0.8808 - loss: 0.3904 - val_acc: 0.8801 - val_loss: 0.3326\n",
      "Epoch 3/20\n",
      "\u001b[1m30/30\u001b[0m \u001b[32m━━━━━━━━━━━━━━━━━━━━\u001b[0m\u001b[37m\u001b[0m \u001b[1m0s\u001b[0m 12ms/step - acc: 0.9111 - loss: 0.2765 - val_acc: 0.8754 - val_loss: 0.3132\n",
      "Epoch 4/20\n",
      "\u001b[1m30/30\u001b[0m \u001b[32m━━━━━━━━━━━━━━━━━━━━\u001b[0m\u001b[37m\u001b[0m \u001b[1m1s\u001b[0m 14ms/step - acc: 0.9303 - loss: 0.2205 - val_acc: 0.8892 - val_loss: 0.2766\n",
      "Epoch 5/20\n",
      "\u001b[1m30/30\u001b[0m \u001b[32m━━━━━━━━━━━━━━━━━━━━\u001b[0m\u001b[37m\u001b[0m \u001b[1m0s\u001b[0m 14ms/step - acc: 0.9440 - loss: 0.1789 - val_acc: 0.8880 - val_loss: 0.2759\n",
      "Epoch 6/20\n",
      "\u001b[1m30/30\u001b[0m \u001b[32m━━━━━━━━━━━━━━━━━━━━\u001b[0m\u001b[37m\u001b[0m \u001b[1m0s\u001b[0m 13ms/step - acc: 0.9518 - loss: 0.1492 - val_acc: 0.8801 - val_loss: 0.3004\n",
      "Epoch 7/20\n",
      "\u001b[1m30/30\u001b[0m \u001b[32m━━━━━━━━━━━━━━━━━━━━\u001b[0m\u001b[37m\u001b[0m \u001b[1m0s\u001b[0m 10ms/step - acc: 0.9585 - loss: 0.1325 - val_acc: 0.8854 - val_loss: 0.2904\n",
      "Epoch 8/20\n",
      "\u001b[1m30/30\u001b[0m \u001b[32m━━━━━━━━━━━━━━━━━━━━\u001b[0m\u001b[37m\u001b[0m \u001b[1m0s\u001b[0m 10ms/step - acc: 0.9666 - loss: 0.1141 - val_acc: 0.8847 - val_loss: 0.3046\n",
      "Epoch 9/20\n",
      "\u001b[1m30/30\u001b[0m \u001b[32m━━━━━━━━━━━━━━━━━━━━\u001b[0m\u001b[37m\u001b[0m \u001b[1m0s\u001b[0m 12ms/step - acc: 0.9741 - loss: 0.0947 - val_acc: 0.8760 - val_loss: 0.3362\n",
      "Epoch 10/20\n",
      "\u001b[1m30/30\u001b[0m \u001b[32m━━━━━━━━━━━━━━━━━━━━\u001b[0m\u001b[37m\u001b[0m \u001b[1m1s\u001b[0m 11ms/step - acc: 0.9743 - loss: 0.0855 - val_acc: 0.8795 - val_loss: 0.3427\n",
      "Epoch 11/20\n",
      "\u001b[1m30/30\u001b[0m \u001b[32m━━━━━━━━━━━━━━━━━━━━\u001b[0m\u001b[37m\u001b[0m \u001b[1m0s\u001b[0m 11ms/step - acc: 0.9802 - loss: 0.0732 - val_acc: 0.8792 - val_loss: 0.3503\n",
      "Epoch 12/20\n",
      "\u001b[1m30/30\u001b[0m \u001b[32m━━━━━━━━━━━━━━━━━━━━\u001b[0m\u001b[37m\u001b[0m \u001b[1m0s\u001b[0m 11ms/step - acc: 0.9864 - loss: 0.0586 - val_acc: 0.8761 - val_loss: 0.3713\n",
      "Epoch 13/20\n",
      "\u001b[1m30/30\u001b[0m \u001b[32m━━━━━━━━━━━━━━━━━━━━\u001b[0m\u001b[37m\u001b[0m \u001b[1m0s\u001b[0m 13ms/step - acc: 0.9885 - loss: 0.0523 - val_acc: 0.8789 - val_loss: 0.3948\n",
      "Epoch 14/20\n",
      "\u001b[1m30/30\u001b[0m \u001b[32m━━━━━━━━━━━━━━━━━━━━\u001b[0m\u001b[37m\u001b[0m \u001b[1m1s\u001b[0m 16ms/step - acc: 0.9884 - loss: 0.0469 - val_acc: 0.8748 - val_loss: 0.4090\n",
      "Epoch 15/20\n",
      "\u001b[1m30/30\u001b[0m \u001b[32m━━━━━━━━━━━━━━━━━━━━\u001b[0m\u001b[37m\u001b[0m \u001b[1m1s\u001b[0m 15ms/step - acc: 0.9931 - loss: 0.0356 - val_acc: 0.8674 - val_loss: 0.4541\n",
      "Epoch 16/20\n",
      "\u001b[1m30/30\u001b[0m \u001b[32m━━━━━━━━━━━━━━━━━━━━\u001b[0m\u001b[37m\u001b[0m \u001b[1m0s\u001b[0m 12ms/step - acc: 0.9940 - loss: 0.0331 - val_acc: 0.8711 - val_loss: 0.4612\n",
      "Epoch 17/20\n",
      "\u001b[1m30/30\u001b[0m \u001b[32m━━━━━━━━━━━━━━━━━━━━\u001b[0m\u001b[37m\u001b[0m \u001b[1m1s\u001b[0m 15ms/step - acc: 0.9946 - loss: 0.0283 - val_acc: 0.8717 - val_loss: 0.4901\n",
      "Epoch 18/20\n",
      "\u001b[1m30/30\u001b[0m \u001b[32m━━━━━━━━━━━━━━━━━━━━\u001b[0m\u001b[37m\u001b[0m \u001b[1m0s\u001b[0m 13ms/step - acc: 0.9969 - loss: 0.0225 - val_acc: 0.8727 - val_loss: 0.5010\n",
      "Epoch 19/20\n",
      "\u001b[1m30/30\u001b[0m \u001b[32m━━━━━━━━━━━━━━━━━━━━\u001b[0m\u001b[37m\u001b[0m \u001b[1m0s\u001b[0m 10ms/step - acc: 0.9979 - loss: 0.0179 - val_acc: 0.8729 - val_loss: 0.5249\n",
      "Epoch 20/20\n",
      "\u001b[1m30/30\u001b[0m \u001b[32m━━━━━━━━━━━━━━━━━━━━\u001b[0m\u001b[37m\u001b[0m \u001b[1m0s\u001b[0m 10ms/step - acc: 0.9986 - loss: 0.0143 - val_acc: 0.8711 - val_loss: 0.5466\n"
     ]
    }
   ],
   "source": [
    "history = model.fit(\n",
    "        partial_x_train,\n",
    "        partial_y_train,\n",
    "        epochs=20,\n",
    "        batch_size=512,\n",
    "        validation_data=(x_val,y_val) #验证集数据\n",
    ")"
   ]
  },
  {
   "cell_type": "code",
   "execution_count": 20,
   "id": "2ec9ae25-6966-4856-aa44-a8ea2e6c759a",
   "metadata": {},
   "outputs": [
    {
     "data": {
      "text/plain": [
       "dict_keys(['acc', 'loss', 'val_acc', 'val_loss'])"
      ]
     },
     "execution_count": 20,
     "metadata": {},
     "output_type": "execute_result"
    }
   ],
   "source": [
    "history_dict = history.history\n",
    "history_dict.keys()"
   ]
  },
  {
   "cell_type": "code",
   "execution_count": 22,
   "id": "8b7314b9-5739-4419-9c7f-1ad5a7c36cda",
   "metadata": {},
   "outputs": [],
   "source": [
    "import matplotlib.pyplot as plt"
   ]
  },
  {
   "cell_type": "code",
   "execution_count": 23,
   "id": "c5d606aa-78d4-4fba-b37e-517742e16a07",
   "metadata": {},
   "outputs": [],
   "source": [
    "loss_values = history_dict['loss']\n",
    "val_loss_values = history_dict['val_loss']"
   ]
  },
  {
   "cell_type": "code",
   "execution_count": 31,
   "id": "b61216a4-59d3-4099-9fbe-c30bc5edd906",
   "metadata": {},
   "outputs": [
    {
     "data": {
      "image/png": "[encoded data removed]",
      "text/plain": [
       "<Figure size 640x480 with 1 Axes>"
      ]
     },
     "metadata": {},
     "output_type": "display_data"
    }
   ],
   "source": [
    "epochs = range(1, len(loss_values) + 1)\n",
    "plt.plot(epochs, loss_values, 'bo', label='Training loss')\n",
    "plt.plot(epochs, val_loss_values, 'r', label='Validation loss')\n",
    "plt.title('Training and validation loss')\n",
    "plt.xlabel('Epochs')\n",
    "plt.ylabel('Loss')\n",
    "plt.legend(loc='upper right')\n",
    "plt.show()"
   ]
  },
  {
   "cell_type": "code",
   "execution_count": 30,
   "id": "f5d3cdc5-1451-4878-967e-8a43ad99f1a8",
   "metadata": {},
   "outputs": [
    {
     "data": {
      "image/png": "[encoded data removed]",
      "text/plain": [
       "<Figure size 640x480 with 1 Axes>"
      ]
     },
     "metadata": {},
     "output_type": "display_data"
    }
   ],
   "source": [
    "plt.clf()\n",
    "acc = history_dict['acc']\n",
    "val_acc = history_dict['val_acc']\n",
    "plt.plot(epochs, acc, 'bo', label='Training acc')\n",
    "plt.plot(epochs, val_acc, 'r', label='Validation acc')\n",
    "plt.title('Training and validation accuracy')\n",
    "plt.xlabel('Epochs')\n",
    "plt.ylabel('Accuracy')\n",
    "plt.legend()\n",
    "plt.show()"
   ]
  },
  {
   "cell_type": "markdown",
   "id": "f131f083-9db0-4a2d-a5c4-afea18552a2e",
   "metadata": {},
   "source": [
    "如你所见，训练损失每轮都在降低，训练精度每轮都在提升。这就是梯度下降优化的预期\n",
    "结果——你想要最小化的量随着每次迭代越来越小。但验证损失和验证精度并非如此：它们似\n",
    "乎在第四轮达到最佳值。这就是我们之前警告过的一种情况：模型在训练数据上的表现越来越好，\n",
    "但在前所未见的数据上不一定表现得越来越好。准确地说，你看到的是过拟合（overfit）：在第\n",
    "二轮之后，你对训练数据过度优化，最终学到的表示仅针对于训练数据，无法泛化到训练集之\n",
    "外的数据。在这种情况下，为了防止过拟合，你可以在 3 轮之后停止训练。通常来说，你可以使用许\n",
    "多方法来降低过拟合，我们将在第 4 章中详细介绍。\n",
    "我们从头开始训练一个新的网络，训练 4 轮，然后在测试数据上评估模型。"
   ]
  },
  {
   "cell_type": "markdown",
   "id": "144cb629-076f-4085-8fd0-44839ba395f9",
   "metadata": {},
   "source": [
    "### 从头开始重新训练一个模型"
   ]
  },
  {
   "cell_type": "code",
   "execution_count": 33,
   "id": "b00bbb17-a906-4b77-95e5-bd68f9abeae8",
   "metadata": {},
   "outputs": [],
   "source": [
    "model = models.Sequential()\n",
    "model.add(Input(shape=(10000,)))\n",
    "model.add(layers.Dense(16,activation='relu'))\n",
    "model.add(layers.Dense(16,activation='relu'))\n",
    "model.add(layers.Dense(1,activation='sigmoid'))"
   ]
  },
  {
   "cell_type": "code",
   "execution_count": 34,
   "id": "d840e0cf-53a9-46aa-abdd-3f8cdc7926c5",
   "metadata": {},
   "outputs": [],
   "source": [
    "model.compile(\n",
    "    optimizer='rmsprop',\n",
    "    loss='binary_crossentropy',\n",
    "    metrics=['accuracy']\n",
    ")"
   ]
  },
  {
   "cell_type": "code",
   "execution_count": 35,
   "id": "986935bf-cff3-415b-a896-0cfae057467a",
   "metadata": {},
   "outputs": [
    {
     "name": "stdout",
     "output_type": "stream",
     "text": [
      "Epoch 1/4\n",
      "\u001b[1m49/49\u001b[0m \u001b[32m━━━━━━━━━━━━━━━━━━━━\u001b[0m\u001b[37m\u001b[0m \u001b[1m1s\u001b[0m 9ms/step - accuracy: 0.7416 - loss: 0.5620   \n",
      "Epoch 2/4\n",
      "\u001b[1m49/49\u001b[0m \u001b[32m━━━━━━━━━━━━━━━━━━━━\u001b[0m\u001b[37m\u001b[0m \u001b[1m1s\u001b[0m 11ms/step - accuracy: 0.8984 - loss: 0.3005\n",
      "Epoch 3/4\n",
      "\u001b[1m49/49\u001b[0m \u001b[32m━━━━━━━━━━━━━━━━━━━━\u001b[0m\u001b[37m\u001b[0m \u001b[1m1s\u001b[0m 9ms/step - accuracy: 0.9187 - loss: 0.2278 \n",
      "Epoch 4/4\n",
      "\u001b[1m49/49\u001b[0m \u001b[32m━━━━━━━━━━━━━━━━━━━━\u001b[0m\u001b[37m\u001b[0m \u001b[1m1s\u001b[0m 16ms/step - accuracy: 0.9349 - loss: 0.1851  \n"
     ]
    },
    {
     "data": {
      "text/plain": [
       "<keras.src.callbacks.history.History at 0x1d80b34a050>"
      ]
     },
     "execution_count": 35,
     "metadata": {},
     "output_type": "execute_result"
    }
   ],
   "source": [
    "model.fit(x_train,y_train,epochs=4,batch_size=512)"
   ]
  },
  {
   "cell_type": "code",
   "execution_count": 36,
   "id": "8f03e4b3-1d75-493f-a09f-5a89cf96a09b",
   "metadata": {},
   "outputs": [
    {
     "name": "stdout",
     "output_type": "stream",
     "text": [
      "\u001b[1m782/782\u001b[0m \u001b[32m━━━━━━━━━━━━━━━━━━━━\u001b[0m\u001b[37m\u001b[0m \u001b[1m3s\u001b[0m 3ms/step - accuracy: 0.8852 - loss: 0.2828\n"
     ]
    }
   ],
   "source": [
    "results = model.evaluate(x_test,y_test)\n"
   ]
  },
  {
   "cell_type": "code",
   "execution_count": 37,
   "id": "c9332f77-1c68-4ba2-bb12-5860f91a34c0",
   "metadata": {},
   "outputs": [
    {
     "data": {
      "text/plain": [
       "[0.2809736430644989, 0.8877599835395813]"
      ]
     },
     "execution_count": 37,
     "metadata": {},
     "output_type": "execute_result"
    }
   ],
   "source": [
    "results"
   ]
  },
  {
   "cell_type": "code",
   "execution_count": 43,
   "id": "94eadeeb-8450-48f0-9f8e-575b8d7b0f3b",
   "metadata": {},
   "outputs": [
    {
     "name": "stdout",
     "output_type": "stream",
     "text": [
      "\u001b[1m782/782\u001b[0m \u001b[32m━━━━━━━━━━━━━━━━━━━━\u001b[0m\u001b[37m\u001b[0m \u001b[1m1s\u001b[0m 952us/step\n"
     ]
    },
    {
     "data": {
      "text/plain": [
       "array([[0.26260415],\n",
       "       [0.9994329 ],\n",
       "       [0.7579848 ],\n",
       "       ...,\n",
       "       [0.10984422],\n",
       "       [0.07708178],\n",
       "       [0.551389  ]], dtype=float32)"
      ]
     },
     "execution_count": 43,
     "metadata": {},
     "output_type": "execute_result"
    }
   ],
   "source": [
    "model.predict(x_test)"
   ]
  },
  {
   "cell_type": "markdown",
   "id": "f5ffa448-acf0-4a67-8dc2-06283e977814",
   "metadata": {},
   "source": [
    "如你所见，网络对某些样本的结果非常确信（大于等于 0.99，或小于等于 0.01），但对其他\n",
    "结果却不那么确信（0.6 或 0.4）。"
   ]
  },
  {
   "cell_type": "markdown",
   "id": "dd681ba0-a1f7-4417-a9be-22882595a2b8",
   "metadata": {},
   "source": [
    "通过以下实验，你可以确信前面选择的网络架构是非常合理的，虽然仍有改进的空间。  \n",
    " 前面使用了两个隐藏层。你可以尝试使用一个或三个隐藏层，然后观察对验证精度和测\n",
    "试精度的影响。      \n",
    " 尝试使用更多或更少的隐藏单元，比如 32 个、64 个等。        \n",
    " 尝试使用 mse 损失函数代替 binary_crossentropy。     \n",
    " 尝试使用 tanh 激活（这种激活在神经网络早期非常流行）代替 relu。     "
   ]
  },
  {
   "cell_type": "code",
   "execution_count": 46,
   "id": "1e2b2251-63d2-41b4-93fd-9d0c6cbc5044",
   "metadata": {},
   "outputs": [
    {
     "name": "stdout",
     "output_type": "stream",
     "text": [
      "Epoch 1/4\n",
      "\u001b[1m49/49\u001b[0m \u001b[32m━━━━━━━━━━━━━━━━━━━━\u001b[0m\u001b[37m\u001b[0m \u001b[1m1s\u001b[0m 8ms/step - accuracy: 0.7277 - loss: 0.1835 \n",
      "Epoch 2/4\n",
      "\u001b[1m49/49\u001b[0m \u001b[32m━━━━━━━━━━━━━━━━━━━━\u001b[0m\u001b[37m\u001b[0m \u001b[1m0s\u001b[0m 5ms/step - accuracy: 0.9062 - loss: 0.0779 \n",
      "Epoch 3/4\n",
      "\u001b[1m49/49\u001b[0m \u001b[32m━━━━━━━━━━━━━━━━━━━━\u001b[0m\u001b[37m\u001b[0m \u001b[1m0s\u001b[0m 5ms/step - accuracy: 0.9249 - loss: 0.0602 \n",
      "Epoch 4/4\n",
      "\u001b[1m49/49\u001b[0m \u001b[32m━━━━━━━━━━━━━━━━━━━━\u001b[0m\u001b[37m\u001b[0m \u001b[1m0s\u001b[0m 6ms/step - accuracy: 0.9421 - loss: 0.0480 \n",
      "\u001b[1m782/782\u001b[0m \u001b[32m━━━━━━━━━━━━━━━━━━━━\u001b[0m\u001b[37m\u001b[0m \u001b[1m1s\u001b[0m 1ms/step - accuracy: 0.8778 - loss: 0.0918\n"
     ]
    }
   ],
   "source": [
    "model = models.Sequential()\n",
    "model.add(Input(shape=(10000,)))\n",
    "model.add(layers.Dense(16, activation='tanh'))\n",
    "model.add(layers.Dense(32, activation='tanh'))\n",
    "model.add(layers.Dense(1, activation='sigmoid'))\n",
    "model.compile(optimizer='rmsprop',\n",
    "             loss='mse',\n",
    "             metrics=['accuracy'])\n",
    "model.fit(x_train, y_train, epochs=4, batch_size=512)\n",
    "results = model.evaluate(x_test, y_test)"
   ]
  },
  {
   "cell_type": "code",
   "execution_count": 47,
   "id": "346e16d7-d72f-4612-8e71-f1ffa80e873b",
   "metadata": {},
   "outputs": [
    {
     "name": "stdout",
     "output_type": "stream",
     "text": [
      "\u001b[1m782/782\u001b[0m \u001b[32m━━━━━━━━━━━━━━━━━━━━\u001b[0m\u001b[37m\u001b[0m \u001b[1m1s\u001b[0m 913us/step\n"
     ]
    },
    {
     "data": {
      "text/plain": [
       "array([[0.11264317],\n",
       "       [0.99963504],\n",
       "       [0.9272347 ],\n",
       "       ...,\n",
       "       [0.16105911],\n",
       "       [0.06650327],\n",
       "       [0.5936589 ]], dtype=float32)"
      ]
     },
     "execution_count": 47,
     "metadata": {},
     "output_type": "execute_result"
    }
   ],
   "source": [
    "model.predict(x_test)"
   ]
  },
  {
   "cell_type": "code",
   "execution_count": null,
   "id": "c127c4ee-ca1e-4bac-a86c-be9d36da7e32",
   "metadata": {},
   "outputs": [],
   "source": []
  }
 ],
 "metadata": {
  "kernelspec": {
   "display_name": "Python 3 (ipykernel)",
   "language": "python",
   "name": "python3"
  },
  "language_info": {
   "codemirror_mode": {
    "name": "ipython",
    "version": 3
   },
   "file_extension": ".py",
   "mimetype": "text/x-python",
   "name": "python",
   "nbconvert_exporter": "python",
   "pygments_lexer": "ipython3",
   "version": "3.11.9"
  }
 },
 "nbformat": 4,
 "nbformat_minor": 5
}
