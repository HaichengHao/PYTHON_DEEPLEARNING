{
 "cells": [
  {
   "cell_type": "code",
   "execution_count": 12,
   "id": "0b8141b1-1d6c-4793-9e42-4fabded356b1",
   "metadata": {},
   "outputs": [],
   "source": [
    "import numpy as np"
   ]
  },
  {
   "cell_type": "code",
   "execution_count": 13,
   "id": "ea27e16b-e3d2-476a-9344-52406b498d55",
   "metadata": {},
   "outputs": [],
   "source": [
    "def naive_relu(x): #x是一个Numpy的2D张量\n",
    "    assert len(x.shape)==2\n",
    "    x = x.copy() #避免覆盖输入张量\n",
    "    for i in range(x.shape[0]):\n",
    "        for j in range(x.shape[1]):\n",
    "            x[i,j] = max(x[i,j],0)\n",
    "    return x"
   ]
  },
  {
   "cell_type": "code",
   "execution_count": 14,
   "id": "3121e49b-6edd-4e36-887f-312b27b3ad81",
   "metadata": {},
   "outputs": [
    {
     "data": {
      "text/plain": [
       "array([[1, 3],\n",
       "       [7, 2]])"
      ]
     },
     "execution_count": 14,
     "metadata": {},
     "output_type": "execute_result"
    }
   ],
   "source": [
    "x = numpy.array([[1,3],[7,2]])\n",
    "x"
   ]
  },
  {
   "cell_type": "code",
   "execution_count": 15,
   "id": "4cd044c0-cd33-42b5-8d66-c5960cd33a3d",
   "metadata": {},
   "outputs": [
    {
     "data": {
      "text/plain": [
       "2"
      ]
     },
     "execution_count": 15,
     "metadata": {},
     "output_type": "execute_result"
    }
   ],
   "source": [
    "len(x)"
   ]
  },
  {
   "cell_type": "code",
   "execution_count": 18,
   "id": "f91fc152-4764-4c99-bd9f-eb1b05f5d47e",
   "metadata": {},
   "outputs": [
    {
     "data": {
      "text/plain": [
       "array([1, 3])"
      ]
     },
     "execution_count": 18,
     "metadata": {},
     "output_type": "execute_result"
    }
   ],
   "source": [
    "x[0]"
   ]
  },
  {
   "cell_type": "code",
   "execution_count": 19,
   "id": "9afba39e-7e29-441d-8e94-5ae1c6376618",
   "metadata": {},
   "outputs": [
    {
     "data": {
      "text/plain": [
       "3"
      ]
     },
     "execution_count": 19,
     "metadata": {},
     "output_type": "execute_result"
    }
   ],
   "source": [
    "x[0][1]"
   ]
  },
  {
   "cell_type": "code",
   "execution_count": 17,
   "id": "914ecde2-6d90-4748-99e5-f1dd6557a65e",
   "metadata": {},
   "outputs": [
    {
     "data": {
      "text/plain": [
       "array([[1, 3],\n",
       "       [7, 2]])"
      ]
     },
     "execution_count": 17,
     "metadata": {},
     "output_type": "execute_result"
    }
   ],
   "source": [
    "naive_relu(x)"
   ]
  },
  {
   "cell_type": "markdown",
   "id": "58affac8-c587-46a9-adc0-c0d0e5de491a",
   "metadata": {},
   "source": [
    "对于加法采用同样的实现方法"
   ]
  },
  {
   "cell_type": "code",
   "execution_count": 20,
   "id": "4826ed5d-7996-4861-a5ed-50da2e60cc8f",
   "metadata": {},
   "outputs": [],
   "source": [
    "def naive_add(x,y): #x和y是numpy 的2D张量\n",
    "    assert len(x.shape)==2\n",
    "    assert x.shape == y.shape\n",
    "    x = x.copy()\n",
    "    for i in range(x.shape[0]):\n",
    "        for j in range(x.shape[1]): \n",
    "            x[i,j]+=y[i,j] \n",
    "    return x"
   ]
  },
  {
   "cell_type": "code",
   "execution_count": 21,
   "id": "cb1b8450-97e4-49da-837e-fd0d3cfb2c3c",
   "metadata": {},
   "outputs": [],
   "source": [
    "y = np.array([[5,2],[1,3]])"
   ]
  },
  {
   "cell_type": "code",
   "execution_count": 22,
   "id": "c91a72f8-c485-4aec-95e0-3e400826fe65",
   "metadata": {},
   "outputs": [
    {
     "data": {
      "text/plain": [
       "array([[6, 5],\n",
       "       [8, 5]])"
      ]
     },
     "execution_count": 22,
     "metadata": {},
     "output_type": "execute_result"
    }
   ],
   "source": [
    "naive_add(x,y)"
   ]
  },
  {
   "cell_type": "code",
   "execution_count": 24,
   "id": "b37f544c-4bbe-480b-946c-6d7561634233",
   "metadata": {},
   "outputs": [
    {
     "data": {
      "text/plain": [
       "3"
      ]
     },
     "execution_count": 24,
     "metadata": {},
     "output_type": "execute_result"
    }
   ],
   "source": [
    "y[1,1]"
   ]
  },
  {
   "cell_type": "markdown",
   "id": "eeaa7a65-c0ac-4420-b2aa-6ee4a5e52216",
   "metadata": {},
   "source": [
    "根据同样的方法，你可以实现逐元素的乘法、减法等。"
   ]
  },
  {
   "cell_type": "markdown",
   "id": "86724cf4-9fde-4ccf-90d2-e8549ebef2db",
   "metadata": {},
   "source": [
    "## 实现逐元素乘法"
   ]
  },
  {
   "cell_type": "code",
   "execution_count": 25,
   "id": "362593b4-0d2b-41d5-ad25-bb854e2f8115",
   "metadata": {},
   "outputs": [],
   "source": [
    "def naive_times(x,y):\n",
    "    assert len(x.shape) == 2\n",
    "    assert x.shape == y.shape\n",
    "    x = x.copy()\n",
    "    for i in range(x.shape[0]):\n",
    "        for j in range(x.shape[1]):\n",
    "            x[i,j] *= y[i,j]\n",
    "    return x"
   ]
  },
  {
   "cell_type": "code",
   "execution_count": 26,
   "id": "f0a8ff2b-057d-471c-8f93-cac39ba3b5a0",
   "metadata": {},
   "outputs": [
    {
     "data": {
      "text/plain": [
       "array([[5, 6],\n",
       "       [7, 6]])"
      ]
     },
     "execution_count": 26,
     "metadata": {},
     "output_type": "execute_result"
    }
   ],
   "source": [
    "naive_times(x,y)"
   ]
  },
  {
   "cell_type": "markdown",
   "id": "4c7f6874-4bb1-4819-8f05-38a2bd200d73",
   "metadata": {},
   "source": [
    "## 实现逐元素除法 "
   ]
  },
  {
   "cell_type": "code",
   "execution_count": 27,
   "id": "a4127d15-dea4-419d-87d5-20b0e5ff3533",
   "metadata": {},
   "outputs": [],
   "source": [
    "def naive_div(x,y):\n",
    "    assert len(x.shape) == 2\n",
    "    assert x.shape == y.shape\n",
    "    x = x.copy()\n",
    "    for i in range(x.shape[0]):\n",
    "        for j in range(x.shape[1]): \n",
    "            x[i,j] /= y[i,j]\n",
    "    return x"
   ]
  },
  {
   "cell_type": "code",
   "execution_count": 28,
   "id": "fa3541ac-b9b6-4a83-b4f9-b50975cebe3c",
   "metadata": {},
   "outputs": [
    {
     "data": {
      "text/plain": [
       "array([[0, 1],\n",
       "       [7, 0]])"
      ]
     },
     "execution_count": 28,
     "metadata": {},
     "output_type": "execute_result"
    }
   ],
   "source": [
    "naive_div(x,y)"
   ]
  },
  {
   "cell_type": "markdown",
   "id": "fab78dff-70f8-4af8-80ef-98700d5a62ab",
   "metadata": {},
   "source": [
    "### 但是实现这些只需要numpy即可"
   ]
  },
  {
   "cell_type": "code",
   "execution_count": 29,
   "id": "13ab4183-ba02-404c-9404-ce4836410d8c",
   "metadata": {},
   "outputs": [],
   "source": [
    "z = x+y"
   ]
  },
  {
   "cell_type": "code",
   "execution_count": 30,
   "id": "24cb4103-68e1-45cd-bdc7-5a5ff038dcee",
   "metadata": {},
   "outputs": [
    {
     "data": {
      "text/plain": [
       "array([[6, 5],\n",
       "       [8, 5]])"
      ]
     },
     "execution_count": 30,
     "metadata": {},
     "output_type": "execute_result"
    }
   ],
   "source": [
    "z"
   ]
  },
  {
   "cell_type": "code",
   "execution_count": 31,
   "id": "d4fda508-a520-4486-914e-6108471af399",
   "metadata": {},
   "outputs": [
    {
     "data": {
      "text/plain": [
       "array([[-4,  1],\n",
       "       [ 6, -1]])"
      ]
     },
     "execution_count": 31,
     "metadata": {},
     "output_type": "execute_result"
    }
   ],
   "source": [
    "x-y"
   ]
  },
  {
   "cell_type": "code",
   "execution_count": 32,
   "id": "283aa3a1-3722-46f7-bdf3-b97fbff427ff",
   "metadata": {},
   "outputs": [
    {
     "data": {
      "text/plain": [
       "array([[5, 6],\n",
       "       [7, 6]])"
      ]
     },
     "execution_count": 32,
     "metadata": {},
     "output_type": "execute_result"
    }
   ],
   "source": [
    "x*y"
   ]
  },
  {
   "cell_type": "code",
   "execution_count": 33,
   "id": "f8b4ae5d-146b-4a66-ac04-dae17ca36b0d",
   "metadata": {},
   "outputs": [
    {
     "data": {
      "text/plain": [
       "array([[0.2       , 1.5       ],\n",
       "       [7.        , 0.66666667]])"
      ]
     },
     "execution_count": 33,
     "metadata": {},
     "output_type": "execute_result"
    }
   ],
   "source": [
    "x/y"
   ]
  },
  {
   "cell_type": "code",
   "execution_count": 39,
   "id": "63b6b4a7-0555-441a-a0b3-c956c678be72",
   "metadata": {},
   "outputs": [],
   "source": [
    "x1 = np.random.randint(1,4,size=[32,10]) #生成32行10列的随机数组"
   ]
  },
  {
   "cell_type": "code",
   "execution_count": 40,
   "id": "30589aa4-b7ad-454d-9407-3a7151a3e5ca",
   "metadata": {},
   "outputs": [
    {
     "data": {
      "text/plain": [
       "array([[3, 2, 3, 3, 1, 2, 1, 3, 3, 1],\n",
       "       [3, 2, 2, 2, 1, 3, 3, 3, 2, 1],\n",
       "       [1, 2, 1, 1, 2, 1, 2, 2, 3, 3],\n",
       "       [3, 1, 2, 1, 2, 1, 3, 2, 2, 2],\n",
       "       [1, 2, 2, 1, 3, 2, 2, 3, 3, 1],\n",
       "       [1, 2, 1, 2, 2, 2, 2, 1, 1, 2],\n",
       "       [2, 2, 2, 2, 2, 1, 1, 2, 2, 1],\n",
       "       [3, 1, 1, 3, 3, 3, 3, 1, 3, 1],\n",
       "       [3, 2, 3, 2, 3, 3, 1, 1, 3, 3],\n",
       "       [2, 3, 1, 2, 1, 1, 1, 3, 1, 1],\n",
       "       [1, 3, 1, 3, 2, 2, 3, 3, 3, 1],\n",
       "       [2, 1, 2, 2, 3, 1, 1, 3, 1, 3],\n",
       "       [2, 3, 1, 3, 3, 3, 3, 1, 1, 2],\n",
       "       [1, 3, 3, 3, 2, 1, 3, 1, 1, 2],\n",
       "       [1, 2, 2, 2, 1, 1, 2, 3, 2, 2],\n",
       "       [2, 3, 1, 2, 2, 1, 2, 3, 2, 1],\n",
       "       [3, 1, 3, 2, 2, 2, 3, 1, 2, 2],\n",
       "       [1, 1, 2, 2, 2, 1, 1, 2, 2, 3],\n",
       "       [1, 3, 2, 2, 1, 1, 1, 2, 2, 3],\n",
       "       [1, 1, 1, 3, 1, 3, 1, 2, 1, 2],\n",
       "       [3, 2, 1, 3, 2, 1, 3, 1, 3, 3],\n",
       "       [1, 1, 3, 3, 3, 3, 1, 1, 3, 1],\n",
       "       [2, 2, 2, 3, 1, 1, 1, 1, 2, 2],\n",
       "       [2, 3, 1, 3, 2, 3, 1, 3, 1, 3],\n",
       "       [3, 3, 1, 1, 2, 1, 3, 3, 1, 3],\n",
       "       [1, 1, 3, 2, 2, 3, 3, 3, 3, 2],\n",
       "       [3, 3, 2, 3, 1, 2, 1, 2, 2, 2],\n",
       "       [3, 1, 3, 2, 3, 2, 1, 2, 1, 2],\n",
       "       [2, 2, 3, 2, 1, 2, 1, 3, 2, 3],\n",
       "       [2, 1, 1, 2, 1, 3, 1, 3, 3, 3],\n",
       "       [1, 2, 3, 1, 2, 3, 1, 1, 3, 3],\n",
       "       [2, 3, 1, 2, 2, 3, 1, 1, 3, 1]])"
      ]
     },
     "execution_count": 40,
     "metadata": {},
     "output_type": "execute_result"
    }
   ],
   "source": [
    "x1"
   ]
  },
  {
   "cell_type": "code",
   "execution_count": 44,
   "id": "63ba47e5-d4ab-40d2-bccf-d7c2c643dc8c",
   "metadata": {},
   "outputs": [
    {
     "data": {
      "text/plain": [
       "(32, 10)"
      ]
     },
     "execution_count": 44,
     "metadata": {},
     "output_type": "execute_result"
    }
   ],
   "source": [
    "x1.shape"
   ]
  },
  {
   "cell_type": "code",
   "execution_count": 41,
   "id": "f9ebee08-8ef3-43f6-bcdd-8f7423cb318e",
   "metadata": {},
   "outputs": [
    {
     "data": {
      "text/plain": [
       "array([3, 2, 2, 2, 2, 3, 2, 3, 3, 2])"
      ]
     },
     "execution_count": 41,
     "metadata": {},
     "output_type": "execute_result"
    }
   ],
   "source": [
    "y1=np.random.randint(2,4,size=[10])\n",
    "y1"
   ]
  },
  {
   "cell_type": "code",
   "execution_count": 43,
   "id": "adbf0978-6381-4b64-a839-d99cc9aea02e",
   "metadata": {},
   "outputs": [
    {
     "data": {
      "text/plain": [
       "(10,)"
      ]
     },
     "execution_count": 43,
     "metadata": {},
     "output_type": "execute_result"
    }
   ],
   "source": [
    "y1.shape"
   ]
  },
  {
   "cell_type": "code",
   "execution_count": 45,
   "id": "12834872-fb9c-4148-b194-a5364c4719da",
   "metadata": {},
   "outputs": [
    {
     "data": {
      "text/plain": [
       "2"
      ]
     },
     "execution_count": 45,
     "metadata": {},
     "output_type": "execute_result"
    }
   ],
   "source": [
    "x1.ndim"
   ]
  },
  {
   "cell_type": "code",
   "execution_count": 46,
   "id": "55c43a73-59a0-441c-9b3c-650b9e7e3774",
   "metadata": {},
   "outputs": [
    {
     "data": {
      "text/plain": [
       "1"
      ]
     },
     "execution_count": 46,
     "metadata": {},
     "output_type": "execute_result"
    }
   ],
   "source": [
    "y1.ndim"
   ]
  },
  {
   "cell_type": "markdown",
   "id": "cd2722c2-5b03-4ff8-aebf-68a61d99ba18",
   "metadata": {},
   "source": [
    "### 张量点积运算"
   ]
  },
  {
   "cell_type": "code",
   "execution_count": 47,
   "id": "4bdddff4-5057-43f5-8da1-f6d57efcf078",
   "metadata": {},
   "outputs": [
    {
     "data": {
      "text/plain": [
       "array([[ 8, 11],\n",
       "       [37, 20]])"
      ]
     },
     "execution_count": 47,
     "metadata": {},
     "output_type": "execute_result"
    }
   ],
   "source": [
    "z = np.dot(x,y)\n",
    "z"
   ]
  },
  {
   "cell_type": "code",
   "execution_count": 48,
   "id": "6dbaa312-4d63-4fe2-8704-e22d10451ecd",
   "metadata": {},
   "outputs": [
    {
     "data": {
      "text/plain": [
       "array([[1, 3],\n",
       "       [7, 2]])"
      ]
     },
     "execution_count": 48,
     "metadata": {},
     "output_type": "execute_result"
    }
   ],
   "source": [
    "x"
   ]
  },
  {
   "cell_type": "code",
   "execution_count": 49,
   "id": "5d3ba8c1-08b3-4d00-bd46-a8975e9811ba",
   "metadata": {},
   "outputs": [
    {
     "data": {
      "text/plain": [
       "array([[5, 2],\n",
       "       [1, 3]])"
      ]
     },
     "execution_count": 49,
     "metadata": {},
     "output_type": "execute_result"
    }
   ],
   "source": [
    "y"
   ]
  },
  {
   "cell_type": "code",
   "execution_count": 50,
   "id": "67f72578-371a-40af-bef1-875c108bae4c",
   "metadata": {},
   "outputs": [
    {
     "data": {
      "text/plain": [
       "array([[ 8, 11],\n",
       "       [37, 20]])"
      ]
     },
     "execution_count": 50,
     "metadata": {},
     "output_type": "execute_result"
    }
   ],
   "source": [
    "z"
   ]
  },
  {
   "cell_type": "code",
   "execution_count": 51,
   "id": "00ec8795-0cd7-4b60-88a7-d4a8157ddbaf",
   "metadata": {},
   "outputs": [
    {
     "data": {
      "text/plain": [
       "array([[19, 19],\n",
       "       [22,  9]])"
      ]
     },
     "execution_count": 51,
     "metadata": {},
     "output_type": "execute_result"
    }
   ],
   "source": [
    "z1 = np.dot(y,x)\n",
    "z1"
   ]
  },
  {
   "cell_type": "markdown",
   "id": "358bad0b-bf90-4675-9779-308d8f390953",
   "metadata": {},
   "source": [
    "### 注意"
   ]
  },
  {
   "cell_type": "markdown",
   "id": "d35d8f0b-b53b-4ee2-837d-f22880dcb124",
   "metadata": {},
   "source": [
    "如果两个张量中有一个的 ndim 大于 1，那么 dot 运算就不再是对称的，也就是说，\n",
    "dot(x, y) 不等于 dot(y, x)。"
   ]
  },
  {
   "cell_type": "markdown",
   "id": "7a1e72d1-ccdf-4b44-9345-7e0e1667587f",
   "metadata": {},
   "source": [
    "### 张量变形"
   ]
  },
  {
   "cell_type": "code",
   "execution_count": 52,
   "id": "0f15d105-605e-4e68-979d-62192341cb5e",
   "metadata": {},
   "outputs": [],
   "source": [
    "x=np.array([[0,1],[2,3],[4,5]])"
   ]
  },
  {
   "cell_type": "code",
   "execution_count": 53,
   "id": "ac4cf256-50ad-4ccd-be70-d5412cd47dd7",
   "metadata": {},
   "outputs": [
    {
     "data": {
      "text/plain": [
       "(3, 2)"
      ]
     },
     "execution_count": 53,
     "metadata": {},
     "output_type": "execute_result"
    }
   ],
   "source": [
    "x.shape"
   ]
  },
  {
   "cell_type": "code",
   "execution_count": 54,
   "id": "de05812d-f6b5-4fbc-9c08-e95c3be5d7e3",
   "metadata": {},
   "outputs": [
    {
     "data": {
      "text/plain": [
       "array([[0],\n",
       "       [1],\n",
       "       [2],\n",
       "       [3],\n",
       "       [4],\n",
       "       [5]])"
      ]
     },
     "execution_count": 54,
     "metadata": {},
     "output_type": "execute_result"
    }
   ],
   "source": [
    "x = x.reshape(6,1)\n",
    "x"
   ]
  },
  {
   "cell_type": "code",
   "execution_count": 55,
   "id": "2de8c375-8c98-4110-8355-275c161fa526",
   "metadata": {},
   "outputs": [
    {
     "data": {
      "text/plain": [
       "array([[0, 1, 2],\n",
       "       [3, 4, 5]])"
      ]
     },
     "execution_count": 55,
     "metadata": {},
     "output_type": "execute_result"
    }
   ],
   "source": [
    "x=x.reshape(2,3)\n",
    "x"
   ]
  },
  {
   "cell_type": "code",
   "execution_count": 56,
   "id": "a662f784-e65e-4a5f-a9ac-a5a1edbab4ea",
   "metadata": {},
   "outputs": [
    {
     "data": {
      "text/plain": [
       "(2, 3)"
      ]
     },
     "execution_count": 56,
     "metadata": {},
     "output_type": "execute_result"
    }
   ],
   "source": [
    "x.shape"
   ]
  },
  {
   "cell_type": "markdown",
   "id": "e23f07b3-8897-47a0-9af8-a97b17ca8a91",
   "metadata": {},
   "source": [
    "利用转置(transpose)对张量进行转置操作,对矩阵做转置是将行和列进行互换"
   ]
  },
  {
   "cell_type": "code",
   "execution_count": 57,
   "id": "c45d4cef-cead-4a4f-b195-bed5dc28952f",
   "metadata": {},
   "outputs": [
    {
     "data": {
      "text/plain": [
       "array([[0, 3],\n",
       "       [1, 4],\n",
       "       [2, 5]])"
      ]
     },
     "execution_count": 57,
     "metadata": {},
     "output_type": "execute_result"
    }
   ],
   "source": [
    "x=np.transpose(x)\n",
    "x"
   ]
  },
  {
   "cell_type": "code",
   "execution_count": 58,
   "id": "298614af-69c6-425b-a4ea-bcefc4ac329d",
   "metadata": {},
   "outputs": [
    {
     "data": {
      "text/plain": [
       "(3, 2)"
      ]
     },
     "execution_count": 58,
     "metadata": {},
     "output_type": "execute_result"
    }
   ],
   "source": [
    "x.shape"
   ]
  },
  {
   "cell_type": "code",
   "execution_count": null,
   "id": "01b183ec-2b26-41ab-aee6-b8ae2e16c4ba",
   "metadata": {},
   "outputs": [],
   "source": []
  }
 ],
 "metadata": {
  "kernelspec": {
   "display_name": "Python 3 (ipykernel)",
   "language": "python",
   "name": "python3"
  },
  "language_info": {
   "codemirror_mode": {
    "name": "ipython",
    "version": 3
   },
   "file_extension": ".py",
   "mimetype": "text/x-python",
   "name": "python",
   "nbconvert_exporter": "python",
   "pygments_lexer": "ipython3",
   "version": "3.11.9"
  }
 },
 "nbformat": 4,
 "nbformat_minor": 5
}
