{
 "cells": [
  {
   "cell_type": "code",
   "execution_count": 1,
   "id": "a847dbcd-14d6-432a-a673-7203c16a5b2d",
   "metadata": {},
   "outputs": [],
   "source": [
    "from keras import models,layers\n",
    "from keras.layers import Dense,Input"
   ]
  },
  {
   "cell_type": "code",
   "execution_count": 2,
   "id": "bc575e11-e882-4e9e-a150-20edb99ddfbc",
   "metadata": {},
   "outputs": [],
   "source": [
    "model = models.Sequential()"
   ]
  },
  {
   "cell_type": "code",
   "execution_count": 3,
   "id": "a0475f94-b29e-4b99-8373-4a9da4ceb4e8",
   "metadata": {},
   "outputs": [],
   "source": [
    "model.add(Input(shape=(784,)))\n",
    "model.add(layers.Dense(32))\n",
    "model.add(layers.Dense(32))"
   ]
  },
  {
   "cell_type": "code",
   "execution_count": null,
   "id": "f9e89b72-4df6-44f3-9c59-557e3de89ae9",
   "metadata": {},
   "outputs": [],
   "source": []
  }
 ],
 "metadata": {
  "kernelspec": {
   "display_name": "Python 3 (ipykernel)",
   "language": "python",
   "name": "python3"
  },
  "language_info": {
   "codemirror_mode": {
    "name": "ipython",
    "version": 3
   },
   "file_extension": ".py",
   "mimetype": "text/x-python",
   "name": "python",
   "nbconvert_exporter": "python",
   "pygments_lexer": "ipython3",
   "version": "3.11.9"
  }
 },
 "nbformat": 4,
 "nbformat_minor": 5
}
