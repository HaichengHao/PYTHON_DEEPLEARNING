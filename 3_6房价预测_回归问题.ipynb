{
 "cells": [
  {
   "cell_type": "code",
   "execution_count": 1,
   "id": "006e910a-3aad-4b9d-9ed9-9286bbf61669",
   "metadata": {},
   "outputs": [
    {
     "data": {
      "text/html": [
       "<style type='text/css'>\n",
       "    *{\n",
       "        # background-color:#E3EDCD;\n",
       "        # background-color:black;\n",
       "        # color:white;\n",
       "        \n",
       "    }\n",
       "    h1{\n",
       "        color:#1976d2;\n",
       "    }\n",
       "    h2{\n",
       "        color:#f57c00;\n",
       "    }\n",
       "    h3{\n",
       "        color:#ba37ff;\n",
       "    }\n",
       "    h4{\n",
       "        color:green;\n",
       "    }\n",
       "    table{\n",
       "        border:1px solid black !important;\n",
       "        border-collapse:collapse !important;\n",
       "    }\n",
       "    th{\n",
       "        background-color:blueviolet !important;\n",
       "        text-align:center;\n",
       "        color:white;\n",
       "    }\n",
       "    th,td{\n",
       "        border:0.1px solid black !important;\n",
       "        transition:0.2s all liner;\n",
       "        \n",
       "    }\n",
       "    td:hover{\n",
       "        transform:scale(1.1);\n",
       "        background-color:orange;\n",
       "        color:blueviolet;\n",
       "    }\n",
       "    .raw{\n",
       "        white-space:pre;\n",
       "    }\n",
       "    .important{\n",
       "        color:red;\n",
       "    }\n",
       "</style>\n"
      ],
      "text/plain": [
       "<IPython.core.display.HTML object>"
      ]
     },
     "metadata": {},
     "output_type": "display_data"
    }
   ],
   "source": [
    "%%HTML\n",
    "<style type='text/css'>\n",
    "    *{\n",
    "        # background-color:#E3EDCD;\n",
    "        # background-color:black;\n",
    "        # color:white;\n",
    "        \n",
    "    }\n",
    "    h1{\n",
    "        color:#1976d2;\n",
    "    }\n",
    "    h2{\n",
    "        color:#f57c00;\n",
    "    }\n",
    "    h3{\n",
    "        color:#ba37ff;\n",
    "    }\n",
    "    h4{\n",
    "        color:green;\n",
    "    }\n",
    "    table{\n",
    "        border:1px solid black !important;\n",
    "        border-collapse:collapse !important;\n",
    "    }\n",
    "    th{\n",
    "        background-color:blueviolet !important;\n",
    "        text-align:center;\n",
    "        color:white;\n",
    "    }\n",
    "    th,td{\n",
    "        border:0.1px solid black !important;\n",
    "        transition:0.2s all liner;\n",
    "        \n",
    "    }\n",
    "    td:hover{\n",
    "        transform:scale(1.1);\n",
    "        background-color:orange;\n",
    "        color:blueviolet;\n",
    "    }\n",
    "    .raw{\n",
    "        white-space:pre;\n",
    "    }\n",
    "    .important{\n",
    "        color:red;\n",
    "    }\n",
    "</style>"
   ]
  },
  {
   "cell_type": "markdown",
   "id": "a1e2d33c-b8d5-4c4f-9bfc-2cef72052248",
   "metadata": {},
   "source": [
    "## 房价预测_回归问题"
   ]
  },
  {
   "cell_type": "markdown",
   "id": "a0b2daf0-3181-48e4-8cf3-c9f379f79258",
   "metadata": {},
   "source": [
    "前面两个例子都是分类问题，其目标是预测输入数据点所对应的单一离散的标签。另一种\n",
    "常见的机器学习问题是回归问题，它预测一个连续值而不是离散的标签，例如，根据气象数据\n",
    "预测明天的气温，或者根据软件说明书预测完成软件项目所需要的时间。"
   ]
  },
  {
   "cell_type": "markdown",
   "id": "d9547f69-2525-4a00-a2e4-9175c76ba7fd",
   "metadata": {},
   "source": [
    "### 3.6.1　波士顿房价数据集"
   ]
  },
  {
   "cell_type": "markdown",
   "id": "ae8e0ed6-0479-4b90-84be-bf21d8c15139",
   "metadata": {},
   "source": [
    "\n",
    "本节将要预测 20 世纪 70 年代中期波士顿郊区房屋价格的中位数，已知当时郊区的一些数\n",
    "据点，比如犯罪率、当地房产税率等。本节用到的数据集与前面两个例子有一个有趣的区别。\n",
    "它包含的数据点相对较少，只有 506 个，分为 404 个训练样本和 102 个测试样本。输入数据的\n",
    "每个特征（比如犯罪率）都有不同的取值范围。例如，有些特性是比例，取值范围为 0\\~1；有\n",
    "的取值范围为 1\\~12；还有的取值范围为 0\\~100，等等。"
   ]
  },
  {
   "cell_type": "markdown",
   "id": "f2306f78-37f2-46fd-84b2-342f853c8ba9",
   "metadata": {},
   "source": [
    "#### 代码清单 3-24　加载波士顿房价数据"
   ]
  },
  {
   "cell_type": "code",
   "execution_count": 2,
   "id": "f68dcc38-3fa9-41dc-80d5-80cf33b73c87",
   "metadata": {},
   "outputs": [],
   "source": [
    "from keras.datasets import boston_housing"
   ]
  },
  {
   "cell_type": "code",
   "execution_count": 3,
   "id": "d7d51010-0e1f-4a88-9af2-403a84b52df9",
   "metadata": {},
   "outputs": [
    {
     "name": "stdout",
     "output_type": "stream",
     "text": [
      "Downloading data from https://storage.googleapis.com/tensorflow/tf-keras-datasets/boston_housing.npz\n",
      "\u001b[1m57026/57026\u001b[0m \u001b[32m━━━━━━━━━━━━━━━━━━━━\u001b[0m\u001b[37m\u001b[0m \u001b[1m0s\u001b[0m 8us/step \n"
     ]
    }
   ],
   "source": [
    "(train_data,train_targets),(test_data,test_targets)\\\n",
    "=boston_housing.load_data()"
   ]
  },
  {
   "cell_type": "code",
   "execution_count": 4,
   "id": "f2fd8258-26fa-4043-8976-8fc423a16d3a",
   "metadata": {},
   "outputs": [
    {
     "data": {
      "text/plain": [
       "(404, 13)"
      ]
     },
     "execution_count": 4,
     "metadata": {},
     "output_type": "execute_result"
    }
   ],
   "source": [
    "train_data.shape"
   ]
  },
  {
   "cell_type": "code",
   "execution_count": 5,
   "id": "e8c70647-0ce6-415c-977c-582d263ea261",
   "metadata": {},
   "outputs": [
    {
     "data": {
      "text/plain": [
       "(102, 13)"
      ]
     },
     "execution_count": 5,
     "metadata": {},
     "output_type": "execute_result"
    }
   ],
   "source": [
    "test_data.shape"
   ]
  },
  {
   "cell_type": "markdown",
   "id": "6d4d8148-75c3-4cc6-8342-aba36731edb7",
   "metadata": {},
   "source": [
    "如你所见，我们有 404 个训练样本和 102 个测试样本，每个样本都有 13 个数值特征，比如\n",
    "人均犯罪率、每个住宅的平均房间数、高速公路可达性等。  \n",
    "目标是房屋价格的中位数，单位是千美元。\n"
   ]
  },
  {
   "cell_type": "code",
   "execution_count": 6,
   "id": "92a6ddaa-c734-41a6-84ea-7fed7cf1bc5f",
   "metadata": {},
   "outputs": [
    {
     "data": {
      "text/plain": [
       "array([15.2, 42.3, 50. , 21.1, 17.7, 18.5, 11.3, 15.6, 15.6, 14.4, 12.1,\n",
       "       17.9, 23.1, 19.9, 15.7,  8.8, 50. , 22.5, 24.1, 27.5, 10.9, 30.8,\n",
       "       32.9, 24. , 18.5, 13.3, 22.9, 34.7, 16.6, 17.5, 22.3, 16.1, 14.9,\n",
       "       23.1, 34.9, 25. , 13.9, 13.1, 20.4, 20. , 15.2, 24.7, 22.2, 16.7,\n",
       "       12.7, 15.6, 18.4, 21. , 30.1, 15.1, 18.7,  9.6, 31.5, 24.8, 19.1,\n",
       "       22. , 14.5, 11. , 32. , 29.4, 20.3, 24.4, 14.6, 19.5, 14.1, 14.3,\n",
       "       15.6, 10.5,  6.3, 19.3, 19.3, 13.4, 36.4, 17.8, 13.5, 16.5,  8.3,\n",
       "       14.3, 16. , 13.4, 28.6, 43.5, 20.2, 22. , 23. , 20.7, 12.5, 48.5,\n",
       "       14.6, 13.4, 23.7, 50. , 21.7, 39.8, 38.7, 22.2, 34.9, 22.5, 31.1,\n",
       "       28.7, 46. , 41.7, 21. , 26.6, 15. , 24.4, 13.3, 21.2, 11.7, 21.7,\n",
       "       19.4, 50. , 22.8, 19.7, 24.7, 36.2, 14.2, 18.9, 18.3, 20.6, 24.6,\n",
       "       18.2,  8.7, 44. , 10.4, 13.2, 21.2, 37. , 30.7, 22.9, 20. , 19.3,\n",
       "       31.7, 32. , 23.1, 18.8, 10.9, 50. , 19.6,  5. , 14.4, 19.8, 13.8,\n",
       "       19.6, 23.9, 24.5, 25. , 19.9, 17.2, 24.6, 13.5, 26.6, 21.4, 11.9,\n",
       "       22.6, 19.6,  8.5, 23.7, 23.1, 22.4, 20.5, 23.6, 18.4, 35.2, 23.1,\n",
       "       27.9, 20.6, 23.7, 28. , 13.6, 27.1, 23.6, 20.6, 18.2, 21.7, 17.1,\n",
       "        8.4, 25.3, 13.8, 22.2, 18.4, 20.7, 31.6, 30.5, 20.3,  8.8, 19.2,\n",
       "       19.4, 23.1, 23. , 14.8, 48.8, 22.6, 33.4, 21.1, 13.6, 32.2, 13.1,\n",
       "       23.4, 18.9, 23.9, 11.8, 23.3, 22.8, 19.6, 16.7, 13.4, 22.2, 20.4,\n",
       "       21.8, 26.4, 14.9, 24.1, 23.8, 12.3, 29.1, 21. , 19.5, 23.3, 23.8,\n",
       "       17.8, 11.5, 21.7, 19.9, 25. , 33.4, 28.5, 21.4, 24.3, 27.5, 33.1,\n",
       "       16.2, 23.3, 48.3, 22.9, 22.8, 13.1, 12.7, 22.6, 15. , 15.3, 10.5,\n",
       "       24. , 18.5, 21.7, 19.5, 33.2, 23.2,  5. , 19.1, 12.7, 22.3, 10.2,\n",
       "       13.9, 16.3, 17. , 20.1, 29.9, 17.2, 37.3, 45.4, 17.8, 23.2, 29. ,\n",
       "       22. , 18. , 17.4, 34.6, 20.1, 25. , 15.6, 24.8, 28.2, 21.2, 21.4,\n",
       "       23.8, 31. , 26.2, 17.4, 37.9, 17.5, 20. ,  8.3, 23.9,  8.4, 13.8,\n",
       "        7.2, 11.7, 17.1, 21.6, 50. , 16.1, 20.4, 20.6, 21.4, 20.6, 36.5,\n",
       "        8.5, 24.8, 10.8, 21.9, 17.3, 18.9, 36.2, 14.9, 18.2, 33.3, 21.8,\n",
       "       19.7, 31.6, 24.8, 19.4, 22.8,  7.5, 44.8, 16.8, 18.7, 50. , 50. ,\n",
       "       19.5, 20.1, 50. , 17.2, 20.8, 19.3, 41.3, 20.4, 20.5, 13.8, 16.5,\n",
       "       23.9, 20.6, 31.5, 23.3, 16.8, 14. , 33.8, 36.1, 12.8, 18.3, 18.7,\n",
       "       19.1, 29. , 30.1, 50. , 50. , 22. , 11.9, 37.6, 50. , 22.7, 20.8,\n",
       "       23.5, 27.9, 50. , 19.3, 23.9, 22.6, 15.2, 21.7, 19.2, 43.8, 20.3,\n",
       "       33.2, 19.9, 22.5, 32.7, 22. , 17.1, 19. , 15. , 16.1, 25.1, 23.7,\n",
       "       28.7, 37.2, 22.6, 16.4, 25. , 29.8, 22.1, 17.4, 18.1, 30.3, 17.5,\n",
       "       24.7, 12.6, 26.5, 28.7, 13.3, 10.4, 24.4, 23. , 20. , 17.8,  7. ,\n",
       "       11.8, 24.4, 13.8, 19.4, 25.2, 19.4, 19.4, 29.1])"
      ]
     },
     "execution_count": 6,
     "metadata": {},
     "output_type": "execute_result"
    }
   ],
   "source": [
    "train_targets"
   ]
  },
  {
   "cell_type": "markdown",
   "id": "6a6e8043-ef6f-43d9-b8a8-b5191d1b1c42",
   "metadata": {},
   "source": [
    "房价大都在 10 000~50 000 美元。如果你觉得这很便宜，不要忘记当时是 20 世纪 70 年代中\n",
    "期，而且这些价格没有根据通货膨胀进行调整。"
   ]
  },
  {
   "cell_type": "markdown",
   "id": "21a375e7-0be6-4797-8578-5bf5558b989e",
   "metadata": {},
   "source": [
    "### 3.6.2　准备数据"
   ]
  },
  {
   "cell_type": "markdown",
   "id": "7cf96d49-d326-4860-bd19-12a9415750e6",
   "metadata": {},
   "source": [
    "将取值范围差异很大的数据输入到神经网络中，这是有问题的。网络可能会自动适应这种\n",
    "取值范围不同的数据，但学习肯定变得更加困难。对于这种数据，普遍采用的最佳实践是对每\n",
    "个特征做标准化，即对于输入数据的每个特征（输入数据矩阵中的列），减去特征平均值，再除\n",
    "以标准差，这样得到的特征平均值为 0，标准差为 1。用 Numpy 可以很容易实现标准化"
   ]
  },
  {
   "cell_type": "markdown",
   "id": "46bf2916-159a-4b65-b4aa-72ae033f94e4",
   "metadata": {},
   "source": [
    "#### 代码清单 3-25　数据标准化"
   ]
  },
  {
   "cell_type": "code",
   "execution_count": 10,
   "id": "35ae8fea-c7dd-439f-8249-fcf976604d4f",
   "metadata": {},
   "outputs": [],
   "source": [
    "mean = train_data.mean(axis=0) #首先计算每行数据的平均值\n",
    "train_data -= mean #从训练数据的每一列中减去对应的平均值。\n",
    "# 这一步操作后，每个特征的新平均值都会变为0。这种中心化处理有助于算法更快地收敛\n",
    "std = train_data.std(axis=0)\n",
    "# 计算标准化后的训练数据每一列的标准差，并将其存储在变量std中。\n",
    "# 同样，axis=0表示计算每一列的标准差。\n",
    "# 注意这里使用的是已经中心化处理后的训练数据来计算标准差。\n",
    "\n",
    "train_data /= std\n",
    "# 将训练数据的每一列除以对应的标准差。这样做是为了使每个特征的方差都变为1。经过这一步骤，训练数据就被标准化了，具有零均值和单位方差。\n",
    "\n",
    "test_data -= mean\n",
    "test_data /= std"
   ]
  },
  {
   "cell_type": "markdown",
   "id": "cb6678ca-4909-4400-9423-939d5bdb708e",
   "metadata": {},
   "source": [
    "注意，用于测试数据标准化的均值和标准差都是在训练数据上计算得到的。在工作流程中，\n",
    "你不能使用在测试数据上计算得到的任何结果，即使是像数据标准化这么简单的事情也不行"
   ]
  },
  {
   "cell_type": "markdown",
   "id": "baaedd49-d430-4159-aa25-302794edde3a",
   "metadata": {},
   "source": [
    "### 3.6.3　构建网络"
   ]
  },
  {
   "cell_type": "markdown",
   "id": "9960ef7c-1957-41d5-9a55-fb1bc49589b1",
   "metadata": {},
   "source": [
    "由于样本数量很少，我们将使用一个非常小的网络，其中包含两个隐藏层，每层有 64 个单\n",
    "元。一般来说，训练数据越少，过拟合会越严重，而<span class='important'>较小的网络可以降低过拟合。</p>"
   ]
  },
  {
   "cell_type": "markdown",
   "id": "db86a867-00cf-4d08-a51f-57ff38cb025a",
   "metadata": {},
   "source": [
    "#### 代码清单 3-26　模型定义"
   ]
  },
  {
   "cell_type": "code",
   "execution_count": 11,
   "id": "6096b49b-8d27-4c90-a1df-c600c0fefe7b",
   "metadata": {},
   "outputs": [],
   "source": [
    "from keras import models,layers,Input"
   ]
  },
  {
   "cell_type": "code",
   "execution_count": 12,
   "id": "299029b6-a8e1-4f06-a6c6-b5c19a20e9fb",
   "metadata": {},
   "outputs": [],
   "source": [
    "def build_model():\n",
    "    model = models.Sequential()\n",
    "    model.add(Input(shape=(train_data.shape[1],)))\n",
    "    model.add(layers.Dense(64,activation='relu'))\n",
    "    model.add(layers.Dense(1))\n",
    "    model.compile(\n",
    "        optimizer = 'rmsprop',\n",
    "        loss = 'mse',\n",
    "        metrics=['mae']\n",
    "    )\n",
    "    return model"
   ]
  },
  {
   "cell_type": "markdown",
   "id": "275c0e37-ffd3-4d2b-ae38-68bbce1edfab",
   "metadata": {},
   "source": [
    "网络的最后一层只有一个单元，没有激活，是一个线性层。<span class='important'>这是标量回归（标量回归是预\n",
    "测单一连续值的回归）的典型设置。添加激活函数将会限制输出范围。例如，如果向最后一层\n",
    "添加 sigmoid 激活函数，网络只能学会预测 0~1 范围内的值。这里最后一层是纯线性的，所以\n",
    "网络可以学会预测任意范围内的值。  </span>           \n",
    "注意，编译网络用的是 mse 损失函数，即均方误差（MSE，mean squared error），预测值与\n",
    "目标值之差的平方。这是回归问题常用的损失函数。            \n",
    "在训练过程中还监控一个新指标：平均绝对误差（MAE，mean absolute error）。它是预测值\n",
    "与目标值之差的绝对值。比如，如果这个问题的 MAE 等于 0.5，就表示你预测的房价与实际价\n",
    "格平均相差 500 (即0.5$\\times$1千美元\\[这个数据集中的单位\\])美元。         "
   ]
  },
  {
   "cell_type": "code",
   "execution_count": 13,
   "id": "0618d54a-8e39-4772-aa32-428a424cd6ce",
   "metadata": {},
   "outputs": [
    {
     "data": {
      "text/plain": [
       "<keras.src.callbacks.history.History at 0x18f1f0ab2d0>"
      ]
     },
     "execution_count": 13,
     "metadata": {},
     "output_type": "execute_result"
    }
   ],
   "source": [
    "model = build_model()\n",
    "model.fit(train_data,train_targets,\n",
    "         epochs = 80,batch_size = 16,verbose=0)\n"
   ]
  },
  {
   "cell_type": "code",
   "execution_count": 14,
   "id": "21c66ee7-f9a1-4a82-9bd3-42fad0ca1a20",
   "metadata": {},
   "outputs": [
    {
     "name": "stdout",
     "output_type": "stream",
     "text": [
      "\u001b[1m4/4\u001b[0m \u001b[32m━━━━━━━━━━━━━━━━━━━━\u001b[0m\u001b[37m\u001b[0m \u001b[1m0s\u001b[0m 12ms/step - loss: 15.2580 - mae: 2.6668 \n"
     ]
    }
   ],
   "source": [
    "test_mse_score,test_mae_score = model.evaluate(test_data,test_targets)"
   ]
  },
  {
   "cell_type": "code",
   "execution_count": 15,
   "id": "91bc2a29-95de-4bbb-875e-b063a4661703",
   "metadata": {},
   "outputs": [
    {
     "data": {
      "text/plain": [
       "2.8692893981933594"
      ]
     },
     "execution_count": 15,
     "metadata": {},
     "output_type": "execute_result"
    }
   ],
   "source": [
    "test_mae_score"
   ]
  },
  {
   "cell_type": "markdown",
   "id": "0772f1b8-32a3-44e5-bbe6-70f13cd72fa9",
   "metadata": {},
   "source": [
    "你预测的房价还是和实际价格相差约 2800 美元。"
   ]
  },
  {
   "cell_type": "markdown",
   "id": "9b468919-93ff-4bfd-8284-b402f962b240",
   "metadata": {},
   "source": [
    "### 3.6.5　小结"
   ]
  },
  {
   "cell_type": "markdown",
   "id": "ca5b068c-d2a1-4de1-bffa-1d98ac007d81",
   "metadata": {},
   "source": [
    "下面是你应该从这个例子中学到的要点。       \n",
    " 回归问题使用的损失函数与分类问题不同。回归常用的损失函数是均方误差（MSE）。    \n",
    " 同样，回归问题使用的评估指标也与分类问题不同。显而易见，精度的概念不适用于回\n",
    "归问题。常见的回归指标是平均绝对误差（MAE）。        \n",
    " 如果输入数据的特征具有不同的取值范围，应该先进行预处理，对每个特征单独进行\n",
    "缩放。        \n",
    " 如果可用的数据很少，使用 K 折验证可以可靠地评估模型。      \n",
    " 如果可用的训练数据很少，最好使用隐藏层较少（通常只有一到两个）的小型网络，以\n",
    "避免严重的过拟合。      "
   ]
  },
  {
   "cell_type": "markdown",
   "id": "515dfae5-9e61-4163-befb-8d5da3ac94f3",
   "metadata": {},
   "source": [
    "本章小结\n",
    " 现在你可以处理关于向量数据最常见的机器学习任务了：二分类问题、多分类问题和标\n",
    "量回归问题。前面三节的“小结”总结了你从这些任务中学到的要点。     \n",
    " 在将原始数据输入神经网络之前，通常需要对其进行预处理。       \n",
    " 如果数据特征具有不同的取值范围，那么需要进行预处理，将每个特征单独缩放。       \n",
    " 随着训练的进行，神经网络最终会过拟合，并在前所未见的数据上得到更差的结果。        \n",
    " 如果训练数据不是很多，应该使用只有一两个隐藏层的小型网络，以避免严重的过拟合。      \n",
    " 如果数据被分为多个类别，那么中间层过小可能会导致信息瓶颈。     \n",
    " 回归问题使用的损失函数和评估指标都与分类问题不同。    \n",
    " 如果要处理的数据很少，K 折验证有助于可靠地评估模型。        "
   ]
  },
  {
   "cell_type": "code",
   "execution_count": null,
   "id": "e53391cb-2a01-445f-9bd3-7b1f2619031d",
   "metadata": {},
   "outputs": [],
   "source": []
  }
 ],
 "metadata": {
  "kernelspec": {
   "display_name": "Python 3 (ipykernel)",
   "language": "python",
   "name": "python3"
  },
  "language_info": {
   "codemirror_mode": {
    "name": "ipython",
    "version": 3
   },
   "file_extension": ".py",
   "mimetype": "text/x-python",
   "name": "python",
   "nbconvert_exporter": "python",
   "pygments_lexer": "ipython3",
   "version": "3.11.9"
  }
 },
 "nbformat": 4,
 "nbformat_minor": 5
}
